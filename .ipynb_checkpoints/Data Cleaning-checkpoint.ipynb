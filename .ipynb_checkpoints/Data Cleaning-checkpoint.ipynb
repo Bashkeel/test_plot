{
 "cells": [
  {
   "cell_type": "code",
   "execution_count": 1,
   "metadata": {},
   "outputs": [],
   "source": [
    "import pandas as pd"
   ]
  },
  {
   "cell_type": "code",
   "execution_count": 2,
   "metadata": {},
   "outputs": [],
   "source": [
    "# Create a merged dataset\n",
    "\n",
    "current_df = pd.read_csv(\"data/world-happiness-report-2021.csv\")\n",
    "current_df = current_df.iloc[:,[0,1,2,6,7,8,9,10,11]]\n",
    "current_df['Year'] = 2021\n",
    "\n",
    "\n",
    "historical_df = pd.read_csv(\"data/world-happiness-report.csv\")\n",
    "region_mapping = current_df[['Country name', 'Regional indicator']]\n",
    "historical_df = pd.merge(region_mapping, historical_df.iloc[:,0:9], on='Country name', how='left')\n",
    "col = historical_df.pop('year')\n",
    "historical_df.insert(historical_df.shape[1], col.name, col)\n",
    "historical_df.columns = current_df.columns\n",
    "\n",
    "merged_df = pd.concat([historical_df, current_df], axis=0)"
   ]
  },
  {
   "cell_type": "code",
   "execution_count": 3,
   "metadata": {},
   "outputs": [],
   "source": [
    "factors_list = merged_df.columns\n",
    "missing_df = pd.DataFrame()\n",
    "imputed_df = merged_df[['Country name', 'Regional indicator','Year']]\n",
    "\n",
    "for i in range(merged_df.shape[1]-3):\n",
    "    pivot_df = merged_df.set_index(['Country name', 'Year']).iloc[:,i+1].unstack().reset_index()\n",
    "    missing_df = pd.concat([missing_df, pivot_df.isnull().sum()], axis=1)\n",
    "    pivot_df.set_index('Country name', drop=True, inplace=True)\n",
    "    pivot_df = pivot_df.transpose()\n",
    "    pivot_df.fillna(pivot_df.mean(), inplace=True)\n",
    "    pivot_df['Year'] = pivot_df.index\n",
    "    pivot_df = pivot_df.melt(id_vars=['Year'])\n",
    "    imputed_df = pd.merge(imputed_df, pivot_df, on=['Country name', 'Year'], how='outer')\n",
    "\n",
    "\n",
    "col = imputed_df.pop('Year')\n",
    "imputed_df.insert(imputed_df.shape[1], col.name, col)\n",
    "imputed_df.columns = factors_list\n",
    "missing_df.columns = factors_list[2:9]\n",
    "missing_df = missing_df.iloc[1:,]\n",
    "\n",
    "imputed_df.drop(['Regional indicator'], axis=1, inplace=True)\n",
    "imputed_df = pd.merge(region_mapping, imputed_df.iloc[:,0:9], on='Country name', how='outer')\n",
    "\n",
    "\n",
    "imputed_df.to_csv(\"data/imputed-data.csv\", index=False)"
   ]
  }
 ],
 "metadata": {
  "kernelspec": {
   "display_name": "Python 3",
   "language": "python",
   "name": "python3"
  },
  "language_info": {
   "codemirror_mode": {
    "name": "ipython",
    "version": 3
   },
   "file_extension": ".py",
   "mimetype": "text/x-python",
   "name": "python",
   "nbconvert_exporter": "python",
   "pygments_lexer": "ipython3",
   "version": "3.7.2"
  }
 },
 "nbformat": 4,
 "nbformat_minor": 4
}
