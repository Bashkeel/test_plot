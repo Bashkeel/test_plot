{
 "cells": [
  {
   "cell_type": "markdown",
   "metadata": {
    "_uuid": "ece6e836e0e2edb8138c98cb1d67d092c932ed1b"
   },
   "source": [
    "![Pet Banner](Images/header.png)\n",
    "# <center> Predicting Pet Adoption Time Using Decision Tree Ensembles</center>\n"
   ]
  },
  {
   "cell_type": "markdown",
   "metadata": {
    "_uuid": "2f975daaf15bb14f2584e8453016fea261c233de"
   },
   "source": [
    "<br>\n",
    "The goal of this project is to develop an algorithm to predict the adoptability of pets - specifically, how quickly is a pet adopted? The dataset was part of the [PetFinder.my Adoption Prediction](https://www.kaggle.com/c/petfinder-adoption-prediction).\n",
    "\n",
    "The final ensemble model used four different classifier algorithms (**Gradient Boosting**, **AdaBoost**, **Random Forest**, and **XGBoost**). The final prediction classes were determined as the average of all four models weighted equally.\n",
    "\n",
    "<br>\n",
    "\n",
    "**Table of Contents**\n",
    "1. [Data Columns](#Data-Columns)\n",
    "2. [Dataset Overview](#Data-Overview)\n",
    "3. [Missing Data](#Missing-Data)\n",
    "4. [Variable Visualizations](#Variable-Visualizations)\n",
    "5. [Caution Variables](#Caution-Variables)\n",
    "6. [Data Cleaning](#Data-Cleaning)\n",
    "7. [Tree Ensemble Modelling](#Tree-Ensemble-Modelling)\n",
    "8. [Predictions & Submission](#Predictions-&-Submission)\n",
    "\n",
    "<br>\n",
    "\n",
    "**Model Accuracy**: (Cohen's Kappa = 0.33809)\n",
    "\n",
    "    Top submissions on the public leaderboard are around 0.45\n",
    "    \n",
    "\n",
    "**Competition Description**\n",
    "> Millions of stray animals suffer on the streets or are euthanized in shelters every day around the world. If homes can be found for them, many precious lives can be saved — and more happy families created.\n",
    "<img style=\"float: right;\" src=\"Images/thumb76_76.png\">\n",
    "\n",
    "> PetFinder.my has been Malaysia’s leading animal welfare platform since 2008, with a database of more than 150,000 animals. PetFinder collaborates closely with animal lovers, media, corporations, and global organizations to improve animal welfare.\n",
    "\n",
    "> Animal adoption rates are strongly correlated to the metadata associated with their online profiles, such as descriptive text and photo characteristics. As one example, PetFinder is currently experimenting with a simple AI tool called the Cuteness Meter, which ranks how cute a pet is based on qualities present in their photos.\n",
    "\n",
    "> In this competition you will be developing algorithms to predict the adoptability of pets - specifically, how quickly is a pet adopted? If successful, they will be adapted into AI tools that will guide shelters and rescuers around the world on improving their pet profiles' appeal, reducing animal suffering and euthanization.\n",
    "\n",
    "> Top participants may be invited to collaborate on implementing their solutions into AI tools for assessing and improving pet adoption performance, which will benefit global animal welfare.\n",
    "\n",
    "**Competition Evaluation**\n",
    "> Submissions are scored based on the quadratic weighted kappa, which measures the agreement between two ratings. This metric typically varies from 0 (random agreement between raters) to 1 (complete agreement between raters). \n",
    "\n",
    "> In the event that there is less agreement between the raters than expected by chance, the metric may go below 0. The quadratic weighted kappa is calculated between the scores which are expected/known and the predicted scores.\n"
   ]
  },
  {
   "cell_type": "markdown",
   "metadata": {
    "ExecuteTime": {
     "end_time": "2019-04-18T15:54:41.751103Z",
     "start_time": "2019-04-18T15:54:41.743106Z"
    }
   },
   "source": [
    "<a id='Data-Columns'></a>"
   ]
  },
  {
   "cell_type": "markdown",
   "metadata": {
    "_uuid": "718e7883400e71516ff672c23f29724b2fe35c0a"
   },
   "source": [
    "## Data Columns\n",
    "[Source](https://www.kaggle.com/c/petfinder-adoption-prediction/data)\n",
    "\n",
    "* **PetID** - Unique hash ID of pet profile\n",
    "* **AdoptionSpeed** - Categorical speed of adoption. Lower is faster. This is the value to predict. See below section for more info.\n",
    "* **Type** - Type of animal (1 = Dog, 2 = Cat)\n",
    "* **Name** - Name of pet (Empty if not named)\n",
    "* **Age** - Age of pet when listed, in months\n",
    "* **Breed1** - Primary breed of pet (Refer to BreedLabels dictionary)\n",
    "* **Breed2** - Secondary breed of pet, if pet is of mixed breed (Refer to BreedLabels dictionary)\n",
    "* **Gender** - Gender of pet (1 = Male, 2 = Female, 3 = Mixed, if profile represents group of pets)\n",
    "* **Color1** - Color 1 of pet (Refer to ColorLabels dictionary)\n",
    "* **Color2** - Color 2 of pet (Refer to ColorLabels dictionary)\n",
    "* **Color3** - Color 3 of pet (Refer to ColorLabels dictionary)\n",
    "* **MaturitySize** - Size at maturity (1 = Small, 2 = Medium, 3 = Large, 4 = Extra Large, 0 = Not Specified)\n",
    "* **FurLength** - Fur length (1 = Short, 2 = Medium, 3 = Long, 0 = Not Specified)\n",
    "* **Vaccinated** - Pet has been vaccinated (1 = Yes, 2 = No, 3 = Not Sure)\n",
    "* **Dewormed** - Pet has been dewormed (1 = Yes, 2 = No, 3 = Not Sure)\n",
    "* **Sterilized** - Pet has been spayed / neutered (1 = Yes, 2 = No, 3 = Not Sure)\n",
    "* **Health** - Health Condition (1 = Healthy, 2 = Minor Injury, 3 = Serious Injury, 0 = Not Specified)\n",
    "* **Quantity** - Number of pets represented in profile\n",
    "* **Fee** - Adoption fee (0 = Free)\n",
    "* **State** - State location in Malaysia (Refer to StateLabels dictionary)\n",
    "* **RescuerID** - Unique hash ID of rescuer\n",
    "* **VideoAmt** - Total uploaded videos for this pet\n",
    "* **PhotoAmt** - Total uploaded photos for this pet\n",
    "* **Description** - Profile write-up for this pet. The primary language used is English, with some in Malay or Chinese.\n",
    "\n",
    "\n",
    "\n",
    "***AdoptionSpeed***\n",
    "* Contestants are required to predict this value. The value is determined by how quickly, if at all, a pet is adopted. The values are determined in the following way: \n",
    "* 0 - Pet was adopted on the same day as it was listed. \n",
    "* 1 - Pet was adopted between 1 and 7 days (1st week) after being listed. \n",
    "* 2 - Pet was adopted between 8 and 30 days (1st month) after being listed. \n",
    "* 3 - Pet was adopted between 31 and 90 days (2nd & 3rd month) after being listed. \n",
    "* 4 - No adoption after 100 days of being listed. (There are no pets in this dataset that waited between 90 and 100 days)."
   ]
  },
  {
   "cell_type": "markdown",
   "metadata": {},
   "source": [
    "<a id='Data-Overview'></a>"
   ]
  },
  {
   "cell_type": "markdown",
   "metadata": {
    "_uuid": "9d073882a06a1e5a00e0786e3fa6285db2f24156"
   },
   "source": [
    "## Data Overview"
   ]
  },
  {
   "cell_type": "code",
   "execution_count": 1,
   "metadata": {
    "_cell_guid": "79c7e3d0-c299-4dcb-8224-4455121ee9b0",
    "_uuid": "d629ff2d2480ee46fbb7e2d37f6b5fab8052498a",
    "collapsed": true,
    "jupyter": {
     "outputs_hidden": true
    }
   },
   "outputs": [],
   "source": [
    "import os\n",
    "import pandas as pd\n",
    "import numpy as np\n",
    "import matplotlib.pyplot as plt\n",
    "from matplotlib.ticker import PercentFormatter\n",
    "import seaborn as sns\n",
    "import missingno as msno\n",
    "import statsmodels.api as sm\n",
    "import scipy as sp \n",
    "\n",
    "from sklearn.preprocessing import LabelEncoder\n",
    "from sklearn.metrics import cohen_kappa_score, make_scorer\n",
    "from sklearn.ensemble import GradientBoostingClassifier, AdaBoostClassifier, ExtraTreesClassifier, RandomForestClassifier\n",
    "from xgboost.sklearn import XGBClassifier\n",
    "from sklearn.model_selection import GridSearchCV\n",
    "\n",
    "%matplotlib inline\n",
    "sns.set_style(\"whitegrid\") \n",
    "plt.rcParams[\"figure.figsize\"] = [10,5]\n",
    "\n",
    "\n",
    "\n",
    "train = pd.read_csv('../input/train/train.csv')\n",
    "test = pd.read_csv('../input/test/test.csv')\n",
    "states = pd.read_csv('../input/state_labels.csv')"
   ]
  },
  {
   "cell_type": "code",
   "execution_count": 2,
   "metadata": {
    "_uuid": "f040d9108ffa238656642686d50be0ed562783a3",
    "collapsed": true,
    "jupyter": {
     "outputs_hidden": true
    }
   },
   "outputs": [],
   "source": [
    "def count_overview(variable, title):\n",
    "    plt.figure(figsize=(10,4))\n",
    "    ax = sns.barplot(x=variable, y = variable.index, palette=\"Spectral\")\n",
    "    ax.set_title(title)\n",
    "    plt.xlabel('Count')\n",
    "    plt.tight_layout()\n",
    "    plt.show()\n",
    "    \n",
    "def stacked_barplot(tab, title):\n",
    "    tab_percent = tab.apply(lambda r: r/r.sum(), axis=1)\n",
    "    ax = tab_percent.plot.barh(stacked=True, cmap='Spectral', alpha=0.8)\n",
    "    ax.set_title(title)\n",
    "    vals = ax.get_yticks()\n",
    "    ax.xaxis.set_major_formatter(PercentFormatter(xmax=1, decimals=0))\n",
    "    ax.legend(loc='upper center', bbox_to_anchor=(0.5, -0.1), shadow=True, ncol=5)\n",
    "    plt.tight_layout()\n",
    "    plt.show()"
   ]
  },
  {
   "cell_type": "markdown",
   "metadata": {
    "_uuid": "9677d12182810a0132b32688e836324224eb07ad"
   },
   "source": [
    "### Training Dataset Overview"
   ]
  },
  {
   "cell_type": "code",
   "execution_count": 3,
   "metadata": {
    "_uuid": "8ef2a738dd2159b696f8cd194b266533a3ce6975"
   },
   "outputs": [
    {
     "name": "stdout",
     "output_type": "stream",
     "text": [
      "Training Dataset Shape:  (14993, 24)\n"
     ]
    },
    {
     "data": {
      "text/html": [
       "<div>\n",
       "<style scoped>\n",
       "    .dataframe tbody tr th:only-of-type {\n",
       "        vertical-align: middle;\n",
       "    }\n",
       "\n",
       "    .dataframe tbody tr th {\n",
       "        vertical-align: top;\n",
       "    }\n",
       "\n",
       "    .dataframe thead th {\n",
       "        text-align: right;\n",
       "    }\n",
       "</style>\n",
       "<table border=\"1\" class=\"dataframe\">\n",
       "  <thead>\n",
       "    <tr style=\"text-align: right;\">\n",
       "      <th></th>\n",
       "      <th>Type</th>\n",
       "      <th>Name</th>\n",
       "      <th>Age</th>\n",
       "      <th>Breed1</th>\n",
       "      <th>Breed2</th>\n",
       "      <th>Gender</th>\n",
       "      <th>Color1</th>\n",
       "      <th>Color2</th>\n",
       "      <th>Color3</th>\n",
       "      <th>MaturitySize</th>\n",
       "      <th>FurLength</th>\n",
       "      <th>Vaccinated</th>\n",
       "      <th>Dewormed</th>\n",
       "      <th>Sterilized</th>\n",
       "      <th>Health</th>\n",
       "      <th>Quantity</th>\n",
       "      <th>Fee</th>\n",
       "      <th>State</th>\n",
       "      <th>RescuerID</th>\n",
       "      <th>VideoAmt</th>\n",
       "      <th>Description</th>\n",
       "      <th>PetID</th>\n",
       "      <th>PhotoAmt</th>\n",
       "      <th>AdoptionSpeed</th>\n",
       "    </tr>\n",
       "  </thead>\n",
       "  <tbody>\n",
       "    <tr>\n",
       "      <th>0</th>\n",
       "      <td>2</td>\n",
       "      <td>Nibble</td>\n",
       "      <td>3</td>\n",
       "      <td>299</td>\n",
       "      <td>0</td>\n",
       "      <td>1</td>\n",
       "      <td>1</td>\n",
       "      <td>7</td>\n",
       "      <td>0</td>\n",
       "      <td>1</td>\n",
       "      <td>1</td>\n",
       "      <td>2</td>\n",
       "      <td>2</td>\n",
       "      <td>2</td>\n",
       "      <td>1</td>\n",
       "      <td>1</td>\n",
       "      <td>100</td>\n",
       "      <td>41326</td>\n",
       "      <td>8480853f516546f6cf33aa88cd76c379</td>\n",
       "      <td>0</td>\n",
       "      <td>Nibble is a 3+ month old ball of cuteness. He ...</td>\n",
       "      <td>86e1089a3</td>\n",
       "      <td>1.0</td>\n",
       "      <td>2</td>\n",
       "    </tr>\n",
       "    <tr>\n",
       "      <th>1</th>\n",
       "      <td>2</td>\n",
       "      <td>No Name Yet</td>\n",
       "      <td>1</td>\n",
       "      <td>265</td>\n",
       "      <td>0</td>\n",
       "      <td>1</td>\n",
       "      <td>1</td>\n",
       "      <td>2</td>\n",
       "      <td>0</td>\n",
       "      <td>2</td>\n",
       "      <td>2</td>\n",
       "      <td>3</td>\n",
       "      <td>3</td>\n",
       "      <td>3</td>\n",
       "      <td>1</td>\n",
       "      <td>1</td>\n",
       "      <td>0</td>\n",
       "      <td>41401</td>\n",
       "      <td>3082c7125d8fb66f7dd4bff4192c8b14</td>\n",
       "      <td>0</td>\n",
       "      <td>I just found it alone yesterday near my apartm...</td>\n",
       "      <td>6296e909a</td>\n",
       "      <td>2.0</td>\n",
       "      <td>0</td>\n",
       "    </tr>\n",
       "  </tbody>\n",
       "</table>\n",
       "</div>"
      ],
      "text/plain": [
       "   Type         Name  Age      ...            PetID  PhotoAmt  AdoptionSpeed\n",
       "0     2       Nibble    3      ...        86e1089a3       1.0              2\n",
       "1     2  No Name Yet    1      ...        6296e909a       2.0              0\n",
       "\n",
       "[2 rows x 24 columns]"
      ]
     },
     "metadata": {},
     "output_type": "display_data"
    },
    {
     "name": "stdout",
     "output_type": "stream",
     "text": [
      "<class 'pandas.core.frame.DataFrame'>\n",
      "RangeIndex: 14993 entries, 0 to 14992\n",
      "Data columns (total 24 columns):\n",
      "Type             14993 non-null int64\n",
      "Name             13736 non-null object\n",
      "Age              14993 non-null int64\n",
      "Breed1           14993 non-null int64\n",
      "Breed2           14993 non-null int64\n",
      "Gender           14993 non-null int64\n",
      "Color1           14993 non-null int64\n",
      "Color2           14993 non-null int64\n",
      "Color3           14993 non-null int64\n",
      "MaturitySize     14993 non-null int64\n",
      "FurLength        14993 non-null int64\n",
      "Vaccinated       14993 non-null int64\n",
      "Dewormed         14993 non-null int64\n",
      "Sterilized       14993 non-null int64\n",
      "Health           14993 non-null int64\n",
      "Quantity         14993 non-null int64\n",
      "Fee              14993 non-null int64\n",
      "State            14993 non-null int64\n",
      "RescuerID        14993 non-null object\n",
      "VideoAmt         14993 non-null int64\n",
      "Description      14981 non-null object\n",
      "PetID            14993 non-null object\n",
      "PhotoAmt         14993 non-null float64\n",
      "AdoptionSpeed    14993 non-null int64\n",
      "dtypes: float64(1), int64(19), object(4)\n",
      "memory usage: 2.7+ MB\n"
     ]
    },
    {
     "data": {
      "text/plain": [
       "None"
      ]
     },
     "metadata": {},
     "output_type": "display_data"
    },
    {
     "data": {
      "text/html": [
       "<div>\n",
       "<style scoped>\n",
       "    .dataframe tbody tr th:only-of-type {\n",
       "        vertical-align: middle;\n",
       "    }\n",
       "\n",
       "    .dataframe tbody tr th {\n",
       "        vertical-align: top;\n",
       "    }\n",
       "\n",
       "    .dataframe thead th {\n",
       "        text-align: right;\n",
       "    }\n",
       "</style>\n",
       "<table border=\"1\" class=\"dataframe\">\n",
       "  <thead>\n",
       "    <tr style=\"text-align: right;\">\n",
       "      <th></th>\n",
       "      <th>Type</th>\n",
       "      <th>Age</th>\n",
       "      <th>Breed1</th>\n",
       "      <th>Breed2</th>\n",
       "      <th>Gender</th>\n",
       "      <th>Color1</th>\n",
       "      <th>Color2</th>\n",
       "      <th>Color3</th>\n",
       "      <th>MaturitySize</th>\n",
       "      <th>FurLength</th>\n",
       "      <th>Vaccinated</th>\n",
       "      <th>Dewormed</th>\n",
       "      <th>Sterilized</th>\n",
       "      <th>Health</th>\n",
       "      <th>Quantity</th>\n",
       "      <th>Fee</th>\n",
       "      <th>State</th>\n",
       "      <th>VideoAmt</th>\n",
       "      <th>PhotoAmt</th>\n",
       "      <th>AdoptionSpeed</th>\n",
       "    </tr>\n",
       "  </thead>\n",
       "  <tbody>\n",
       "    <tr>\n",
       "      <th>count</th>\n",
       "      <td>14993.000000</td>\n",
       "      <td>14993.000000</td>\n",
       "      <td>14993.000000</td>\n",
       "      <td>14993.000000</td>\n",
       "      <td>14993.000000</td>\n",
       "      <td>14993.000000</td>\n",
       "      <td>14993.000000</td>\n",
       "      <td>14993.000000</td>\n",
       "      <td>14993.000000</td>\n",
       "      <td>14993.000000</td>\n",
       "      <td>14993.000000</td>\n",
       "      <td>14993.000000</td>\n",
       "      <td>14993.000000</td>\n",
       "      <td>14993.000000</td>\n",
       "      <td>14993.000000</td>\n",
       "      <td>14993.000000</td>\n",
       "      <td>14993.000000</td>\n",
       "      <td>14993.000000</td>\n",
       "      <td>14993.000000</td>\n",
       "      <td>14993.000000</td>\n",
       "    </tr>\n",
       "    <tr>\n",
       "      <th>mean</th>\n",
       "      <td>1.457614</td>\n",
       "      <td>10.452078</td>\n",
       "      <td>265.272594</td>\n",
       "      <td>74.009738</td>\n",
       "      <td>1.776162</td>\n",
       "      <td>2.234176</td>\n",
       "      <td>3.222837</td>\n",
       "      <td>1.882012</td>\n",
       "      <td>1.862002</td>\n",
       "      <td>1.467485</td>\n",
       "      <td>1.731208</td>\n",
       "      <td>1.558727</td>\n",
       "      <td>1.914227</td>\n",
       "      <td>1.036617</td>\n",
       "      <td>1.576069</td>\n",
       "      <td>21.259988</td>\n",
       "      <td>41346.028347</td>\n",
       "      <td>0.056760</td>\n",
       "      <td>3.889215</td>\n",
       "      <td>2.516441</td>\n",
       "    </tr>\n",
       "    <tr>\n",
       "      <th>std</th>\n",
       "      <td>0.498217</td>\n",
       "      <td>18.155790</td>\n",
       "      <td>60.056818</td>\n",
       "      <td>123.011575</td>\n",
       "      <td>0.681592</td>\n",
       "      <td>1.745225</td>\n",
       "      <td>2.742562</td>\n",
       "      <td>2.984086</td>\n",
       "      <td>0.547959</td>\n",
       "      <td>0.599070</td>\n",
       "      <td>0.667649</td>\n",
       "      <td>0.695817</td>\n",
       "      <td>0.566172</td>\n",
       "      <td>0.199535</td>\n",
       "      <td>1.472477</td>\n",
       "      <td>78.414548</td>\n",
       "      <td>32.444153</td>\n",
       "      <td>0.346185</td>\n",
       "      <td>3.487810</td>\n",
       "      <td>1.177265</td>\n",
       "    </tr>\n",
       "    <tr>\n",
       "      <th>min</th>\n",
       "      <td>1.000000</td>\n",
       "      <td>0.000000</td>\n",
       "      <td>0.000000</td>\n",
       "      <td>0.000000</td>\n",
       "      <td>1.000000</td>\n",
       "      <td>1.000000</td>\n",
       "      <td>0.000000</td>\n",
       "      <td>0.000000</td>\n",
       "      <td>1.000000</td>\n",
       "      <td>1.000000</td>\n",
       "      <td>1.000000</td>\n",
       "      <td>1.000000</td>\n",
       "      <td>1.000000</td>\n",
       "      <td>1.000000</td>\n",
       "      <td>1.000000</td>\n",
       "      <td>0.000000</td>\n",
       "      <td>41324.000000</td>\n",
       "      <td>0.000000</td>\n",
       "      <td>0.000000</td>\n",
       "      <td>0.000000</td>\n",
       "    </tr>\n",
       "    <tr>\n",
       "      <th>25%</th>\n",
       "      <td>1.000000</td>\n",
       "      <td>2.000000</td>\n",
       "      <td>265.000000</td>\n",
       "      <td>0.000000</td>\n",
       "      <td>1.000000</td>\n",
       "      <td>1.000000</td>\n",
       "      <td>0.000000</td>\n",
       "      <td>0.000000</td>\n",
       "      <td>2.000000</td>\n",
       "      <td>1.000000</td>\n",
       "      <td>1.000000</td>\n",
       "      <td>1.000000</td>\n",
       "      <td>2.000000</td>\n",
       "      <td>1.000000</td>\n",
       "      <td>1.000000</td>\n",
       "      <td>0.000000</td>\n",
       "      <td>41326.000000</td>\n",
       "      <td>0.000000</td>\n",
       "      <td>2.000000</td>\n",
       "      <td>2.000000</td>\n",
       "    </tr>\n",
       "    <tr>\n",
       "      <th>50%</th>\n",
       "      <td>1.000000</td>\n",
       "      <td>3.000000</td>\n",
       "      <td>266.000000</td>\n",
       "      <td>0.000000</td>\n",
       "      <td>2.000000</td>\n",
       "      <td>2.000000</td>\n",
       "      <td>2.000000</td>\n",
       "      <td>0.000000</td>\n",
       "      <td>2.000000</td>\n",
       "      <td>1.000000</td>\n",
       "      <td>2.000000</td>\n",
       "      <td>1.000000</td>\n",
       "      <td>2.000000</td>\n",
       "      <td>1.000000</td>\n",
       "      <td>1.000000</td>\n",
       "      <td>0.000000</td>\n",
       "      <td>41326.000000</td>\n",
       "      <td>0.000000</td>\n",
       "      <td>3.000000</td>\n",
       "      <td>2.000000</td>\n",
       "    </tr>\n",
       "    <tr>\n",
       "      <th>75%</th>\n",
       "      <td>2.000000</td>\n",
       "      <td>12.000000</td>\n",
       "      <td>307.000000</td>\n",
       "      <td>179.000000</td>\n",
       "      <td>2.000000</td>\n",
       "      <td>3.000000</td>\n",
       "      <td>6.000000</td>\n",
       "      <td>5.000000</td>\n",
       "      <td>2.000000</td>\n",
       "      <td>2.000000</td>\n",
       "      <td>2.000000</td>\n",
       "      <td>2.000000</td>\n",
       "      <td>2.000000</td>\n",
       "      <td>1.000000</td>\n",
       "      <td>1.000000</td>\n",
       "      <td>0.000000</td>\n",
       "      <td>41401.000000</td>\n",
       "      <td>0.000000</td>\n",
       "      <td>5.000000</td>\n",
       "      <td>4.000000</td>\n",
       "    </tr>\n",
       "    <tr>\n",
       "      <th>max</th>\n",
       "      <td>2.000000</td>\n",
       "      <td>255.000000</td>\n",
       "      <td>307.000000</td>\n",
       "      <td>307.000000</td>\n",
       "      <td>3.000000</td>\n",
       "      <td>7.000000</td>\n",
       "      <td>7.000000</td>\n",
       "      <td>7.000000</td>\n",
       "      <td>4.000000</td>\n",
       "      <td>3.000000</td>\n",
       "      <td>3.000000</td>\n",
       "      <td>3.000000</td>\n",
       "      <td>3.000000</td>\n",
       "      <td>3.000000</td>\n",
       "      <td>20.000000</td>\n",
       "      <td>3000.000000</td>\n",
       "      <td>41415.000000</td>\n",
       "      <td>8.000000</td>\n",
       "      <td>30.000000</td>\n",
       "      <td>4.000000</td>\n",
       "    </tr>\n",
       "  </tbody>\n",
       "</table>\n",
       "</div>"
      ],
      "text/plain": [
       "               Type           Age      ...            PhotoAmt  AdoptionSpeed\n",
       "count  14993.000000  14993.000000      ...        14993.000000   14993.000000\n",
       "mean       1.457614     10.452078      ...            3.889215       2.516441\n",
       "std        0.498217     18.155790      ...            3.487810       1.177265\n",
       "min        1.000000      0.000000      ...            0.000000       0.000000\n",
       "25%        1.000000      2.000000      ...            2.000000       2.000000\n",
       "50%        1.000000      3.000000      ...            3.000000       2.000000\n",
       "75%        2.000000     12.000000      ...            5.000000       4.000000\n",
       "max        2.000000    255.000000      ...           30.000000       4.000000\n",
       "\n",
       "[8 rows x 20 columns]"
      ]
     },
     "metadata": {},
     "output_type": "display_data"
    }
   ],
   "source": [
    "print(\"Training Dataset Shape: \", train.shape)\n",
    "display(train.head(2))\n",
    "display(train.info())\n",
    "display(train.describe())\n"
   ]
  },
  {
   "cell_type": "markdown",
   "metadata": {
    "_uuid": "9f16274a8e64eee108f89e1bb8228bc0759d6e65"
   },
   "source": [
    "### Test Dataset"
   ]
  },
  {
   "cell_type": "code",
   "execution_count": 4,
   "metadata": {
    "_uuid": "f0471b75c2ce17262b61ef47cbd3065c8cb7f154"
   },
   "outputs": [
    {
     "name": "stdout",
     "output_type": "stream",
     "text": [
      "Test Dataset Shape:  (3948, 23)\n"
     ]
    },
    {
     "data": {
      "text/html": [
       "<div>\n",
       "<style scoped>\n",
       "    .dataframe tbody tr th:only-of-type {\n",
       "        vertical-align: middle;\n",
       "    }\n",
       "\n",
       "    .dataframe tbody tr th {\n",
       "        vertical-align: top;\n",
       "    }\n",
       "\n",
       "    .dataframe thead th {\n",
       "        text-align: right;\n",
       "    }\n",
       "</style>\n",
       "<table border=\"1\" class=\"dataframe\">\n",
       "  <thead>\n",
       "    <tr style=\"text-align: right;\">\n",
       "      <th></th>\n",
       "      <th>Type</th>\n",
       "      <th>Name</th>\n",
       "      <th>Age</th>\n",
       "      <th>Breed1</th>\n",
       "      <th>Breed2</th>\n",
       "      <th>Gender</th>\n",
       "      <th>Color1</th>\n",
       "      <th>Color2</th>\n",
       "      <th>Color3</th>\n",
       "      <th>MaturitySize</th>\n",
       "      <th>FurLength</th>\n",
       "      <th>Vaccinated</th>\n",
       "      <th>Dewormed</th>\n",
       "      <th>Sterilized</th>\n",
       "      <th>Health</th>\n",
       "      <th>Quantity</th>\n",
       "      <th>Fee</th>\n",
       "      <th>State</th>\n",
       "      <th>RescuerID</th>\n",
       "      <th>VideoAmt</th>\n",
       "      <th>Description</th>\n",
       "      <th>PetID</th>\n",
       "      <th>PhotoAmt</th>\n",
       "    </tr>\n",
       "  </thead>\n",
       "  <tbody>\n",
       "    <tr>\n",
       "      <th>0</th>\n",
       "      <td>1</td>\n",
       "      <td>Puppy</td>\n",
       "      <td>2</td>\n",
       "      <td>307</td>\n",
       "      <td>0</td>\n",
       "      <td>1</td>\n",
       "      <td>1</td>\n",
       "      <td>0</td>\n",
       "      <td>0</td>\n",
       "      <td>2</td>\n",
       "      <td>2</td>\n",
       "      <td>2</td>\n",
       "      <td>2</td>\n",
       "      <td>2</td>\n",
       "      <td>1</td>\n",
       "      <td>1</td>\n",
       "      <td>150</td>\n",
       "      <td>41326</td>\n",
       "      <td>4475f31553f0170229455e3c5645644f</td>\n",
       "      <td>0</td>\n",
       "      <td>Puppy is calm for a young dog, but he becomes ...</td>\n",
       "      <td>378fcc4fc</td>\n",
       "      <td>3.0</td>\n",
       "    </tr>\n",
       "    <tr>\n",
       "      <th>1</th>\n",
       "      <td>2</td>\n",
       "      <td>London</td>\n",
       "      <td>24</td>\n",
       "      <td>266</td>\n",
       "      <td>0</td>\n",
       "      <td>1</td>\n",
       "      <td>2</td>\n",
       "      <td>7</td>\n",
       "      <td>0</td>\n",
       "      <td>2</td>\n",
       "      <td>1</td>\n",
       "      <td>1</td>\n",
       "      <td>1</td>\n",
       "      <td>1</td>\n",
       "      <td>1</td>\n",
       "      <td>1</td>\n",
       "      <td>0</td>\n",
       "      <td>41326</td>\n",
       "      <td>4475f31553f0170229455e3c5645644f</td>\n",
       "      <td>0</td>\n",
       "      <td>Urgently seeking adoption. Please contact for ...</td>\n",
       "      <td>73c10e136</td>\n",
       "      <td>1.0</td>\n",
       "    </tr>\n",
       "  </tbody>\n",
       "</table>\n",
       "</div>"
      ],
      "text/plain": [
       "   Type    Name    ...         PetID  PhotoAmt\n",
       "0     1   Puppy    ...     378fcc4fc       3.0\n",
       "1     2  London    ...     73c10e136       1.0\n",
       "\n",
       "[2 rows x 23 columns]"
      ]
     },
     "metadata": {},
     "output_type": "display_data"
    },
    {
     "name": "stdout",
     "output_type": "stream",
     "text": [
      "<class 'pandas.core.frame.DataFrame'>\n",
      "RangeIndex: 3948 entries, 0 to 3947\n",
      "Data columns (total 23 columns):\n",
      "Type            3948 non-null int64\n",
      "Name            3645 non-null object\n",
      "Age             3948 non-null int64\n",
      "Breed1          3948 non-null int64\n",
      "Breed2          3948 non-null int64\n",
      "Gender          3948 non-null int64\n",
      "Color1          3948 non-null int64\n",
      "Color2          3948 non-null int64\n",
      "Color3          3948 non-null int64\n",
      "MaturitySize    3948 non-null int64\n",
      "FurLength       3948 non-null int64\n",
      "Vaccinated      3948 non-null int64\n",
      "Dewormed        3948 non-null int64\n",
      "Sterilized      3948 non-null int64\n",
      "Health          3948 non-null int64\n",
      "Quantity        3948 non-null int64\n",
      "Fee             3948 non-null int64\n",
      "State           3948 non-null int64\n",
      "RescuerID       3948 non-null object\n",
      "VideoAmt        3948 non-null int64\n",
      "Description     3946 non-null object\n",
      "PetID           3948 non-null object\n",
      "PhotoAmt        3948 non-null float64\n",
      "dtypes: float64(1), int64(18), object(4)\n",
      "memory usage: 709.5+ KB\n"
     ]
    },
    {
     "data": {
      "text/plain": [
       "None"
      ]
     },
     "metadata": {},
     "output_type": "display_data"
    },
    {
     "data": {
      "text/html": [
       "<div>\n",
       "<style scoped>\n",
       "    .dataframe tbody tr th:only-of-type {\n",
       "        vertical-align: middle;\n",
       "    }\n",
       "\n",
       "    .dataframe tbody tr th {\n",
       "        vertical-align: top;\n",
       "    }\n",
       "\n",
       "    .dataframe thead th {\n",
       "        text-align: right;\n",
       "    }\n",
       "</style>\n",
       "<table border=\"1\" class=\"dataframe\">\n",
       "  <thead>\n",
       "    <tr style=\"text-align: right;\">\n",
       "      <th></th>\n",
       "      <th>Type</th>\n",
       "      <th>Age</th>\n",
       "      <th>Breed1</th>\n",
       "      <th>Breed2</th>\n",
       "      <th>Gender</th>\n",
       "      <th>Color1</th>\n",
       "      <th>Color2</th>\n",
       "      <th>Color3</th>\n",
       "      <th>MaturitySize</th>\n",
       "      <th>FurLength</th>\n",
       "      <th>Vaccinated</th>\n",
       "      <th>Dewormed</th>\n",
       "      <th>Sterilized</th>\n",
       "      <th>Health</th>\n",
       "      <th>Quantity</th>\n",
       "      <th>Fee</th>\n",
       "      <th>State</th>\n",
       "      <th>VideoAmt</th>\n",
       "      <th>PhotoAmt</th>\n",
       "    </tr>\n",
       "  </thead>\n",
       "  <tbody>\n",
       "    <tr>\n",
       "      <th>count</th>\n",
       "      <td>3948.000000</td>\n",
       "      <td>3948.000000</td>\n",
       "      <td>3948.000000</td>\n",
       "      <td>3948.000000</td>\n",
       "      <td>3948.000000</td>\n",
       "      <td>3948.000000</td>\n",
       "      <td>3948.000000</td>\n",
       "      <td>3948.000000</td>\n",
       "      <td>3948.000000</td>\n",
       "      <td>3948.000000</td>\n",
       "      <td>3948.000000</td>\n",
       "      <td>3948.000000</td>\n",
       "      <td>3948.000000</td>\n",
       "      <td>3948.000000</td>\n",
       "      <td>3948.000000</td>\n",
       "      <td>3948.000000</td>\n",
       "      <td>3948.000000</td>\n",
       "      <td>3948.000000</td>\n",
       "      <td>3948.000000</td>\n",
       "    </tr>\n",
       "    <tr>\n",
       "      <th>mean</th>\n",
       "      <td>1.526089</td>\n",
       "      <td>11.564590</td>\n",
       "      <td>263.033435</td>\n",
       "      <td>57.359422</td>\n",
       "      <td>1.782675</td>\n",
       "      <td>2.232016</td>\n",
       "      <td>3.355623</td>\n",
       "      <td>2.061297</td>\n",
       "      <td>1.824468</td>\n",
       "      <td>1.466819</td>\n",
       "      <td>1.703647</td>\n",
       "      <td>1.506079</td>\n",
       "      <td>1.889311</td>\n",
       "      <td>1.043566</td>\n",
       "      <td>1.626393</td>\n",
       "      <td>27.346251</td>\n",
       "      <td>41351.019250</td>\n",
       "      <td>0.062817</td>\n",
       "      <td>3.809524</td>\n",
       "    </tr>\n",
       "    <tr>\n",
       "      <th>std</th>\n",
       "      <td>0.499382</td>\n",
       "      <td>18.568429</td>\n",
       "      <td>59.178121</td>\n",
       "      <td>112.086810</td>\n",
       "      <td>0.692633</td>\n",
       "      <td>1.736614</td>\n",
       "      <td>2.700144</td>\n",
       "      <td>3.041357</td>\n",
       "      <td>0.569772</td>\n",
       "      <td>0.613308</td>\n",
       "      <td>0.664200</td>\n",
       "      <td>0.682930</td>\n",
       "      <td>0.587995</td>\n",
       "      <td>0.218539</td>\n",
       "      <td>1.609914</td>\n",
       "      <td>88.416045</td>\n",
       "      <td>34.708648</td>\n",
       "      <td>0.391324</td>\n",
       "      <td>3.627959</td>\n",
       "    </tr>\n",
       "    <tr>\n",
       "      <th>min</th>\n",
       "      <td>1.000000</td>\n",
       "      <td>0.000000</td>\n",
       "      <td>2.000000</td>\n",
       "      <td>0.000000</td>\n",
       "      <td>1.000000</td>\n",
       "      <td>1.000000</td>\n",
       "      <td>0.000000</td>\n",
       "      <td>0.000000</td>\n",
       "      <td>1.000000</td>\n",
       "      <td>1.000000</td>\n",
       "      <td>1.000000</td>\n",
       "      <td>1.000000</td>\n",
       "      <td>1.000000</td>\n",
       "      <td>1.000000</td>\n",
       "      <td>1.000000</td>\n",
       "      <td>0.000000</td>\n",
       "      <td>41324.000000</td>\n",
       "      <td>0.000000</td>\n",
       "      <td>0.000000</td>\n",
       "    </tr>\n",
       "    <tr>\n",
       "      <th>25%</th>\n",
       "      <td>1.000000</td>\n",
       "      <td>2.000000</td>\n",
       "      <td>265.000000</td>\n",
       "      <td>0.000000</td>\n",
       "      <td>1.000000</td>\n",
       "      <td>1.000000</td>\n",
       "      <td>0.000000</td>\n",
       "      <td>0.000000</td>\n",
       "      <td>1.000000</td>\n",
       "      <td>1.000000</td>\n",
       "      <td>1.000000</td>\n",
       "      <td>1.000000</td>\n",
       "      <td>2.000000</td>\n",
       "      <td>1.000000</td>\n",
       "      <td>1.000000</td>\n",
       "      <td>0.000000</td>\n",
       "      <td>41326.000000</td>\n",
       "      <td>0.000000</td>\n",
       "      <td>2.000000</td>\n",
       "    </tr>\n",
       "    <tr>\n",
       "      <th>50%</th>\n",
       "      <td>2.000000</td>\n",
       "      <td>4.000000</td>\n",
       "      <td>266.000000</td>\n",
       "      <td>0.000000</td>\n",
       "      <td>2.000000</td>\n",
       "      <td>2.000000</td>\n",
       "      <td>3.000000</td>\n",
       "      <td>0.000000</td>\n",
       "      <td>2.000000</td>\n",
       "      <td>1.000000</td>\n",
       "      <td>2.000000</td>\n",
       "      <td>1.000000</td>\n",
       "      <td>2.000000</td>\n",
       "      <td>1.000000</td>\n",
       "      <td>1.000000</td>\n",
       "      <td>0.000000</td>\n",
       "      <td>41326.000000</td>\n",
       "      <td>0.000000</td>\n",
       "      <td>3.000000</td>\n",
       "    </tr>\n",
       "    <tr>\n",
       "      <th>75%</th>\n",
       "      <td>2.000000</td>\n",
       "      <td>12.000000</td>\n",
       "      <td>307.000000</td>\n",
       "      <td>0.000000</td>\n",
       "      <td>2.000000</td>\n",
       "      <td>3.000000</td>\n",
       "      <td>6.000000</td>\n",
       "      <td>6.000000</td>\n",
       "      <td>2.000000</td>\n",
       "      <td>2.000000</td>\n",
       "      <td>2.000000</td>\n",
       "      <td>2.000000</td>\n",
       "      <td>2.000000</td>\n",
       "      <td>1.000000</td>\n",
       "      <td>1.000000</td>\n",
       "      <td>0.000000</td>\n",
       "      <td>41401.000000</td>\n",
       "      <td>0.000000</td>\n",
       "      <td>5.000000</td>\n",
       "    </tr>\n",
       "    <tr>\n",
       "      <th>max</th>\n",
       "      <td>2.000000</td>\n",
       "      <td>180.000000</td>\n",
       "      <td>307.000000</td>\n",
       "      <td>307.000000</td>\n",
       "      <td>3.000000</td>\n",
       "      <td>7.000000</td>\n",
       "      <td>7.000000</td>\n",
       "      <td>7.000000</td>\n",
       "      <td>4.000000</td>\n",
       "      <td>3.000000</td>\n",
       "      <td>3.000000</td>\n",
       "      <td>3.000000</td>\n",
       "      <td>3.000000</td>\n",
       "      <td>3.000000</td>\n",
       "      <td>20.000000</td>\n",
       "      <td>2400.000000</td>\n",
       "      <td>41401.000000</td>\n",
       "      <td>9.000000</td>\n",
       "      <td>30.000000</td>\n",
       "    </tr>\n",
       "  </tbody>\n",
       "</table>\n",
       "</div>"
      ],
      "text/plain": [
       "              Type          Age     ...          VideoAmt     PhotoAmt\n",
       "count  3948.000000  3948.000000     ...       3948.000000  3948.000000\n",
       "mean      1.526089    11.564590     ...          0.062817     3.809524\n",
       "std       0.499382    18.568429     ...          0.391324     3.627959\n",
       "min       1.000000     0.000000     ...          0.000000     0.000000\n",
       "25%       1.000000     2.000000     ...          0.000000     2.000000\n",
       "50%       2.000000     4.000000     ...          0.000000     3.000000\n",
       "75%       2.000000    12.000000     ...          0.000000     5.000000\n",
       "max       2.000000   180.000000     ...          9.000000    30.000000\n",
       "\n",
       "[8 rows x 19 columns]"
      ]
     },
     "metadata": {},
     "output_type": "display_data"
    }
   ],
   "source": [
    "print(\"Test Dataset Shape: \", test.shape)\n",
    "display(test.head(2))\n",
    "display(test.info())\n",
    "display(test.describe())"
   ]
  },
  {
   "cell_type": "markdown",
   "metadata": {
    "_uuid": "0a72fdcfb5a948d38f1bd252430f975a618597ad"
   },
   "source": [
    "Let's concatenate the datasets to make the EDA easier\n",
    "\n"
   ]
  },
  {
   "cell_type": "code",
   "execution_count": 5,
   "metadata": {
    "_uuid": "a3c648ef9feeb0217ca7af1489de8234df182f17",
    "collapsed": true,
    "jupyter": {
     "outputs_hidden": true
    }
   },
   "outputs": [],
   "source": [
    "train_target = train['AdoptionSpeed']\n",
    "test_id = test['PetID']\n",
    "all_data = pd.concat((train, test), sort=True).reset_index(drop=True)"
   ]
  },
  {
   "cell_type": "markdown",
   "metadata": {
    "ExecuteTime": {
     "end_time": "2019-04-18T15:56:09.260639Z",
     "start_time": "2019-04-18T15:56:09.252643Z"
    },
    "_uuid": "cb6f6df072cd67c546cad0957cc2fd8a13eb6e71"
   },
   "source": [
    "<a id='Missing-Data'></a>"
   ]
  },
  {
   "cell_type": "markdown",
   "metadata": {
    "_uuid": "beaae8ff3357107aa1a995cf58944e5a0529bf05"
   },
   "source": [
    "## Missing Data"
   ]
  },
  {
   "cell_type": "code",
   "execution_count": 6,
   "metadata": {
    "_uuid": "a9a6fc5b73001d8bc8d81ebcd45d72e9e33f4994"
   },
   "outputs": [
    {
     "data": {
      "image/png": "[encoded data removed]",
      "text/plain": [
       "<Figure size 1728x720 with 3 Axes>"
      ]
     },
     "metadata": {},
     "output_type": "display_data"
    }
   ],
   "source": [
    "msno.bar(all_data.drop('AdoptionSpeed', axis=1), color=sns.color_palette(\"Spectral\", 5)[4])\n",
    "plt.show()"
   ]
  },
  {
   "cell_type": "markdown",
   "metadata": {
    "_uuid": "3cef60a09ebc6f300885435d015c0d128950ad52"
   },
   "source": [
    "* The only variable with missing values is the \"Name\". \n",
    "* My intuition is that people are more likely to respond positively to listed pets with existing names. Imagine a little girl saying:\n",
    "    * \"Aww, look how cute '*Peanut*' is!\"\n",
    "\n",
    "Let's test the hypothesis that the name would play a role in the Adoption Speed. First, we define a new variable (\"NameorNot\"), then conduct a chi-squared enrichment analysis. Lastly, we examine the standardized residuals to see any effects."
   ]
  },
  {
   "cell_type": "code",
   "execution_count": 7,
   "metadata": {
    "_uuid": "4d7b691c4a2a90bf6d4a82fd8774a7802e6f21a0"
   },
   "outputs": [
    {
     "name": "stdout",
     "output_type": "stream",
     "text": [
      "Number of Animals by Type\n"
     ]
    },
    {
     "data": {
      "text/html": [
       "<div>\n",
       "<style scoped>\n",
       "    .dataframe tbody tr th:only-of-type {\n",
       "        vertical-align: middle;\n",
       "    }\n",
       "\n",
       "    .dataframe tbody tr th {\n",
       "        vertical-align: top;\n",
       "    }\n",
       "\n",
       "    .dataframe thead th {\n",
       "        text-align: right;\n",
       "    }\n",
       "</style>\n",
       "<table border=\"1\" class=\"dataframe\">\n",
       "  <thead>\n",
       "    <tr style=\"text-align: right;\">\n",
       "      <th>AdoptionSpeed</th>\n",
       "      <th>0</th>\n",
       "      <th>1</th>\n",
       "      <th>2</th>\n",
       "      <th>3</th>\n",
       "      <th>4</th>\n",
       "    </tr>\n",
       "    <tr>\n",
       "      <th>NameorNot</th>\n",
       "      <th></th>\n",
       "      <th></th>\n",
       "      <th></th>\n",
       "      <th></th>\n",
       "      <th></th>\n",
       "    </tr>\n",
       "  </thead>\n",
       "  <tbody>\n",
       "    <tr>\n",
       "      <th>Has a Name</th>\n",
       "      <td>384</td>\n",
       "      <td>2819</td>\n",
       "      <td>3725</td>\n",
       "      <td>3043</td>\n",
       "      <td>3765</td>\n",
       "    </tr>\n",
       "    <tr>\n",
       "      <th>No Name</th>\n",
       "      <td>26</td>\n",
       "      <td>271</td>\n",
       "      <td>312</td>\n",
       "      <td>216</td>\n",
       "      <td>432</td>\n",
       "    </tr>\n",
       "  </tbody>\n",
       "</table>\n",
       "</div>"
      ],
      "text/plain": [
       "AdoptionSpeed    0     1     2     3     4\n",
       "NameorNot                                 \n",
       "Has a Name     384  2819  3725  3043  3765\n",
       "No Name         26   271   312   216   432"
      ]
     },
     "metadata": {},
     "output_type": "display_data"
    },
    {
     "data": {
      "image/png": "[encoded data removed]",
      "text/plain": [
       "<Figure size 720x288 with 1 Axes>"
      ]
     },
     "metadata": {},
     "output_type": "display_data"
    },
    {
     "name": "stdout",
     "output_type": "stream",
     "text": [
      "Chi-Square Test of Independence: p-value = 1.076E-07\n"
     ]
    },
    {
     "data": {
      "text/html": [
       "<div>\n",
       "<style scoped>\n",
       "    .dataframe tbody tr th:only-of-type {\n",
       "        vertical-align: middle;\n",
       "    }\n",
       "\n",
       "    .dataframe tbody tr th {\n",
       "        vertical-align: top;\n",
       "    }\n",
       "\n",
       "    .dataframe thead th {\n",
       "        text-align: right;\n",
       "    }\n",
       "</style>\n",
       "<table border=\"1\" class=\"dataframe\">\n",
       "  <thead>\n",
       "    <tr style=\"text-align: right;\">\n",
       "      <th>AdoptionSpeed</th>\n",
       "      <th>0</th>\n",
       "      <th>1</th>\n",
       "      <th>2</th>\n",
       "      <th>3</th>\n",
       "      <th>4</th>\n",
       "    </tr>\n",
       "    <tr>\n",
       "      <th>NameorNot</th>\n",
       "      <th></th>\n",
       "      <th></th>\n",
       "      <th></th>\n",
       "      <th></th>\n",
       "      <th></th>\n",
       "    </tr>\n",
       "  </thead>\n",
       "  <tbody>\n",
       "    <tr>\n",
       "      <th>Has a Name</th>\n",
       "      <td>1.513055</td>\n",
       "      <td>-0.869614</td>\n",
       "      <td>1.757704</td>\n",
       "      <td>4.0889</td>\n",
       "      <td>-5.259132</td>\n",
       "    </tr>\n",
       "    <tr>\n",
       "      <th>No Name</th>\n",
       "      <td>-1.513055</td>\n",
       "      <td>0.869614</td>\n",
       "      <td>-1.757704</td>\n",
       "      <td>-4.0889</td>\n",
       "      <td>5.259132</td>\n",
       "    </tr>\n",
       "  </tbody>\n",
       "</table>\n",
       "</div>"
      ],
      "text/plain": [
       "AdoptionSpeed         0         1         2       3         4\n",
       "NameorNot                                                    \n",
       "Has a Name     1.513055 -0.869614  1.757704  4.0889 -5.259132\n",
       "No Name       -1.513055  0.869614 -1.757704 -4.0889  5.259132"
      ]
     },
     "metadata": {},
     "output_type": "display_data"
    },
    {
     "data": {
      "image/png": "[encoded data removed]",
      "text/plain": [
       "<Figure size 720x360 with 1 Axes>"
      ]
     },
     "metadata": {},
     "output_type": "display_data"
    }
   ],
   "source": [
    "train['NameorNot'] = np.where(train['Name'].isnull(), 'No Name', 'Has a Name')\n",
    "test['NameorNot'] = np.where(test['Name'].isnull(), 'No Name', 'Has a Name')\n",
    "\n",
    "\n",
    "df_plot = train.groupby(['NameorNot', 'AdoptionSpeed']).size().reset_index().pivot(\n",
    "    columns='AdoptionSpeed', index='NameorNot', values=0)\n",
    "print(\"Number of Animals by Type\")\n",
    "display(df_plot)\n",
    "\n",
    "ggDF = train['NameorNot'].value_counts()\n",
    "count_overview(ggDF, 'NameorNot Count')\n",
    "\n",
    "tab = pd.crosstab(train['NameorNot'], train['AdoptionSpeed'])\n",
    "table = sm.stats.Table(tab)\n",
    "\n",
    "print(\"Chi-Square Test of Independence: p-value = {:.3E}\".format(sp.stats.chi2_contingency(tab)[1]))\n",
    "display(table.standardized_resids)\n",
    "\n",
    "stacked_barplot(tab, \"Effects of a Name on Adoption Speed\")\n",
    "plt.show()"
   ]
  },
  {
   "cell_type": "markdown",
   "metadata": {
    "_uuid": "0e28f5879a07ec4de5af42a55f496f5c5bb416e4"
   },
   "source": [
    "Looking at the standardized residuals table and the bottom plot, we can see that pets that are listed without a name are more likely to NOT be adopted.\n",
    "\n",
    "* As a rule of thumb, values outside the range of [-2, 2] exhibit a lower or higher than expected frequency, respectively."
   ]
  },
  {
   "cell_type": "markdown",
   "metadata": {},
   "source": [
    "<a id='Variable-Visualizations'></a>"
   ]
  },
  {
   "cell_type": "markdown",
   "metadata": {
    "_uuid": "6f7a74a35d0e6538ebcf8c0a85bf9278199a19ed"
   },
   "source": [
    "## Variable Visualizations\n",
    "\n",
    "Let's split the training dataset into categorical and numeric subsets to make it easier to visualize"
   ]
  },
  {
   "cell_type": "markdown",
   "metadata": {
    "_uuid": "2b12ea8e730ed5bcf3b390cba0aa06015674db7d"
   },
   "source": [
    "### Target Variable (Adoption Speed) "
   ]
  },
  {
   "cell_type": "code",
   "execution_count": 8,
   "metadata": {
    "_uuid": "5bbb2e98f1280fe07e935bc5c1d23b132e8d07a5"
   },
   "outputs": [
    {
     "data": {
      "image/png": "[encoded data removed]",
      "text/plain": [
       "<Figure size 720x288 with 1 Axes>"
      ]
     },
     "metadata": {},
     "output_type": "display_data"
    }
   ],
   "source": [
    "ggDF = pd.DataFrame(train['AdoptionSpeed'].value_counts().rename({0: '0 (Same Day)', 1: '1 (1-7 Days)', 2: '2 (8-30 Days)', 3: '3 (31-90 Days)', 4: '4 (No Adoption After 100 Days)'}))\n",
    "ggDF['Order'] = [4, 2, 3, 1, 0]\n",
    "ggDF.sort_values('Order', inplace=True, ascending=True)\n",
    "count_overview(ggDF['AdoptionSpeed'], 'AdoptionSpeed (Target Variable)')"
   ]
  },
  {
   "cell_type": "markdown",
   "metadata": {
    "_uuid": "50b56b1bc3089944c033f08a38dc24e63b7361e0"
   },
   "source": [
    "### Cats vs Dogs"
   ]
  },
  {
   "cell_type": "code",
   "execution_count": 9,
   "metadata": {
    "_uuid": "a1dfcf800f025a7107bfed2f2e2895dcad974dc9"
   },
   "outputs": [
    {
     "name": "stdout",
     "output_type": "stream",
     "text": [
      "Number of Animals by Type\n"
     ]
    },
    {
     "data": {
      "text/html": [
       "<div>\n",
       "<style scoped>\n",
       "    .dataframe tbody tr th:only-of-type {\n",
       "        vertical-align: middle;\n",
       "    }\n",
       "\n",
       "    .dataframe tbody tr th {\n",
       "        vertical-align: top;\n",
       "    }\n",
       "\n",
       "    .dataframe thead th {\n",
       "        text-align: right;\n",
       "    }\n",
       "</style>\n",
       "<table border=\"1\" class=\"dataframe\">\n",
       "  <thead>\n",
       "    <tr style=\"text-align: right;\">\n",
       "      <th>AdoptionSpeed</th>\n",
       "      <th>0</th>\n",
       "      <th>1</th>\n",
       "      <th>2</th>\n",
       "      <th>3</th>\n",
       "      <th>4</th>\n",
       "    </tr>\n",
       "    <tr>\n",
       "      <th>Type</th>\n",
       "      <th></th>\n",
       "      <th></th>\n",
       "      <th></th>\n",
       "      <th></th>\n",
       "      <th></th>\n",
       "    </tr>\n",
       "  </thead>\n",
       "  <tbody>\n",
       "    <tr>\n",
       "      <th>Dog</th>\n",
       "      <td>170</td>\n",
       "      <td>1435</td>\n",
       "      <td>2164</td>\n",
       "      <td>1949</td>\n",
       "      <td>2414</td>\n",
       "    </tr>\n",
       "    <tr>\n",
       "      <th>Cat</th>\n",
       "      <td>240</td>\n",
       "      <td>1655</td>\n",
       "      <td>1873</td>\n",
       "      <td>1310</td>\n",
       "      <td>1783</td>\n",
       "    </tr>\n",
       "  </tbody>\n",
       "</table>\n",
       "</div>"
      ],
      "text/plain": [
       "AdoptionSpeed    0     1     2     3     4\n",
       "Type                                      \n",
       "Dog            170  1435  2164  1949  2414\n",
       "Cat            240  1655  1873  1310  1783"
      ]
     },
     "metadata": {},
     "output_type": "display_data"
    },
    {
     "data": {
      "image/png": "[encoded data removed]",
      "text/plain": [
       "<Figure size 720x288 with 1 Axes>"
      ]
     },
     "metadata": {},
     "output_type": "display_data"
    },
    {
     "name": "stdout",
     "output_type": "stream",
     "text": [
      "Chi-Square Test of Independence: p-value = 5.010E-34\n"
     ]
    },
    {
     "data": {
      "text/html": [
       "<div>\n",
       "<style scoped>\n",
       "    .dataframe tbody tr th:only-of-type {\n",
       "        vertical-align: middle;\n",
       "    }\n",
       "\n",
       "    .dataframe tbody tr th {\n",
       "        vertical-align: top;\n",
       "    }\n",
       "\n",
       "    .dataframe thead th {\n",
       "        text-align: right;\n",
       "    }\n",
       "</style>\n",
       "<table border=\"1\" class=\"dataframe\">\n",
       "  <thead>\n",
       "    <tr style=\"text-align: right;\">\n",
       "      <th>AdoptionSpeed</th>\n",
       "      <th>0</th>\n",
       "      <th>1</th>\n",
       "      <th>2</th>\n",
       "      <th>3</th>\n",
       "      <th>4</th>\n",
       "    </tr>\n",
       "    <tr>\n",
       "      <th>Type</th>\n",
       "      <th></th>\n",
       "      <th></th>\n",
       "      <th></th>\n",
       "      <th></th>\n",
       "      <th></th>\n",
       "    </tr>\n",
       "  </thead>\n",
       "  <tbody>\n",
       "    <tr>\n",
       "      <th>Dog</th>\n",
       "      <td>-5.264749</td>\n",
       "      <td>-9.7657</td>\n",
       "      <td>-0.946594</td>\n",
       "      <td>7.208134</td>\n",
       "      <td>5.024245</td>\n",
       "    </tr>\n",
       "    <tr>\n",
       "      <th>Cat</th>\n",
       "      <td>5.264749</td>\n",
       "      <td>9.7657</td>\n",
       "      <td>0.946594</td>\n",
       "      <td>-7.208134</td>\n",
       "      <td>-5.024245</td>\n",
       "    </tr>\n",
       "  </tbody>\n",
       "</table>\n",
       "</div>"
      ],
      "text/plain": [
       "AdoptionSpeed         0       1         2         3         4\n",
       "Type                                                         \n",
       "Dog           -5.264749 -9.7657 -0.946594  7.208134  5.024245\n",
       "Cat            5.264749  9.7657  0.946594 -7.208134 -5.024245"
      ]
     },
     "metadata": {},
     "output_type": "display_data"
    },
    {
     "data": {
      "image/png": "[encoded data removed]",
      "text/plain": [
       "<Figure size 720x360 with 1 Axes>"
      ]
     },
     "metadata": {},
     "output_type": "display_data"
    }
   ],
   "source": [
    "df_plot = train.groupby(['Type', 'AdoptionSpeed']).size().reset_index().pivot(columns='AdoptionSpeed', index='Type', values=0).rename({1: 'Dog', 2: 'Cat'})\n",
    "print(\"Number of Animals by Type\")\n",
    "display(df_plot)\n",
    "\n",
    "ggDF = train['Type'].value_counts().rename({1: 'Dog', 2: 'Cat'})\n",
    "count_overview(ggDF, 'Type Count')\n",
    "\n",
    "tab = pd.crosstab(train['Type'], train['AdoptionSpeed']).rename({1: 'Dog', 2: 'Cat'})\n",
    "table = sm.stats.Table(tab)\n",
    "\n",
    "print(\"Chi-Square Test of Independence: p-value = {:.3E}\".format(sp.stats.chi2_contingency(tab)[1]))\n",
    "display(table.standardized_resids)\n",
    "\n",
    "stacked_barplot(tab, \"Adoption Speed by Type\")\n",
    "plt.show()"
   ]
  },
  {
   "cell_type": "markdown",
   "metadata": {
    "_uuid": "74ace1e07a8218f1a786a2ea2de63f8ec14e20d0"
   },
   "source": [
    "It seems cats are more likely to be adopted sooner, compared to dogs. This may be due to the larger responsibility & commitment associated with owning a dog."
   ]
  },
  {
   "cell_type": "markdown",
   "metadata": {
    "_uuid": "76a65bf32469aa7593044307bc31c1e635479786"
   },
   "source": [
    "### Gender"
   ]
  },
  {
   "cell_type": "code",
   "execution_count": 10,
   "metadata": {
    "_uuid": "b3eb86a86bcdd6e123ba6ee0a2a11d8ad9563866"
   },
   "outputs": [
    {
     "name": "stdout",
     "output_type": "stream",
     "text": [
      "Number of Animals by Gender\n"
     ]
    },
    {
     "data": {
      "text/html": [
       "<div>\n",
       "<style scoped>\n",
       "    .dataframe tbody tr th:only-of-type {\n",
       "        vertical-align: middle;\n",
       "    }\n",
       "\n",
       "    .dataframe tbody tr th {\n",
       "        vertical-align: top;\n",
       "    }\n",
       "\n",
       "    .dataframe thead th {\n",
       "        text-align: right;\n",
       "    }\n",
       "</style>\n",
       "<table border=\"1\" class=\"dataframe\">\n",
       "  <thead>\n",
       "    <tr style=\"text-align: right;\">\n",
       "      <th>AdoptionSpeed</th>\n",
       "      <th>0</th>\n",
       "      <th>1</th>\n",
       "      <th>2</th>\n",
       "      <th>3</th>\n",
       "      <th>4</th>\n",
       "    </tr>\n",
       "    <tr>\n",
       "      <th>Gender</th>\n",
       "      <th></th>\n",
       "      <th></th>\n",
       "      <th></th>\n",
       "      <th></th>\n",
       "      <th></th>\n",
       "    </tr>\n",
       "  </thead>\n",
       "  <tbody>\n",
       "    <tr>\n",
       "      <th>Male</th>\n",
       "      <td>160</td>\n",
       "      <td>1283</td>\n",
       "      <td>1578</td>\n",
       "      <td>1109</td>\n",
       "      <td>1406</td>\n",
       "    </tr>\n",
       "    <tr>\n",
       "      <th>Female</th>\n",
       "      <td>204</td>\n",
       "      <td>1366</td>\n",
       "      <td>1911</td>\n",
       "      <td>1671</td>\n",
       "      <td>2125</td>\n",
       "    </tr>\n",
       "    <tr>\n",
       "      <th>Mixed (Groups of Pets)</th>\n",
       "      <td>46</td>\n",
       "      <td>441</td>\n",
       "      <td>548</td>\n",
       "      <td>479</td>\n",
       "      <td>666</td>\n",
       "    </tr>\n",
       "  </tbody>\n",
       "</table>\n",
       "</div>"
      ],
      "text/plain": [
       "AdoptionSpeed             0     1     2     3     4\n",
       "Gender                                             \n",
       "Male                    160  1283  1578  1109  1406\n",
       "Female                  204  1366  1911  1671  2125\n",
       "Mixed (Groups of Pets)   46   441   548   479   666"
      ]
     },
     "metadata": {},
     "output_type": "display_data"
    },
    {
     "data": {
      "image/png": "[encoded data removed]",
      "text/plain": [
       "<Figure size 720x288 with 1 Axes>"
      ]
     },
     "metadata": {},
     "output_type": "display_data"
    },
    {
     "name": "stdout",
     "output_type": "stream",
     "text": [
      "Chi-Square Test of Independence: p-value = 1.871E-13\n"
     ]
    },
    {
     "data": {
      "text/html": [
       "<div>\n",
       "<style scoped>\n",
       "    .dataframe tbody tr th:only-of-type {\n",
       "        vertical-align: middle;\n",
       "    }\n",
       "\n",
       "    .dataframe tbody tr th {\n",
       "        vertical-align: top;\n",
       "    }\n",
       "\n",
       "    .dataframe thead th {\n",
       "        text-align: right;\n",
       "    }\n",
       "</style>\n",
       "<table border=\"1\" class=\"dataframe\">\n",
       "  <thead>\n",
       "    <tr style=\"text-align: right;\">\n",
       "      <th>AdoptionSpeed</th>\n",
       "      <th>0</th>\n",
       "      <th>1</th>\n",
       "      <th>2</th>\n",
       "      <th>3</th>\n",
       "      <th>4</th>\n",
       "    </tr>\n",
       "    <tr>\n",
       "      <th>Gender</th>\n",
       "      <th></th>\n",
       "      <th></th>\n",
       "      <th></th>\n",
       "      <th></th>\n",
       "      <th></th>\n",
       "    </tr>\n",
       "  </thead>\n",
       "  <tbody>\n",
       "    <tr>\n",
       "      <th>Male</th>\n",
       "      <td>0.893609</td>\n",
       "      <td>5.942875</td>\n",
       "      <td>3.333695</td>\n",
       "      <td>-3.871096</td>\n",
       "      <td>-5.416289</td>\n",
       "    </tr>\n",
       "    <tr>\n",
       "      <th>Female</th>\n",
       "      <td>0.501221</td>\n",
       "      <td>-5.403628</td>\n",
       "      <td>-1.782910</td>\n",
       "      <td>3.534435</td>\n",
       "      <td>3.200882</td>\n",
       "    </tr>\n",
       "    <tr>\n",
       "      <th>Mixed (Groups of Pets)</th>\n",
       "      <td>-1.934038</td>\n",
       "      <td>-0.474798</td>\n",
       "      <td>-2.036183</td>\n",
       "      <td>0.288581</td>\n",
       "      <td>2.876952</td>\n",
       "    </tr>\n",
       "  </tbody>\n",
       "</table>\n",
       "</div>"
      ],
      "text/plain": [
       "AdoptionSpeed                  0         1    ...            3         4\n",
       "Gender                                        ...                       \n",
       "Male                    0.893609  5.942875    ...    -3.871096 -5.416289\n",
       "Female                  0.501221 -5.403628    ...     3.534435  3.200882\n",
       "Mixed (Groups of Pets) -1.934038 -0.474798    ...     0.288581  2.876952\n",
       "\n",
       "[3 rows x 5 columns]"
      ]
     },
     "metadata": {},
     "output_type": "display_data"
    },
    {
     "data": {
      "image/png": "[encoded data removed]",
      "text/plain": [
       "<Figure size 720x360 with 1 Axes>"
      ]
     },
     "metadata": {},
     "output_type": "display_data"
    }
   ],
   "source": [
    "df_plot = train.groupby(['Gender', 'AdoptionSpeed']).size().reset_index().pivot(\n",
    "    columns='AdoptionSpeed', index='Gender', values=0).rename({1: 'Male', 2: 'Female', 3: 'Mixed (Groups of Pets)'})\n",
    "print(\"Number of Animals by Gender\")\n",
    "display(df_plot)\n",
    "\n",
    "ggDF = train['Gender'].value_counts().rename({1: 'Male', 2: 'Female', 3: 'Mixed (Groups of Pets)'})\n",
    "count_overview(ggDF, 'Gender Count')\n",
    "\n",
    "tab = pd.crosstab(train['Gender'], train['AdoptionSpeed']).rename({1: 'Male', 2: 'Female', 3: 'Mixed (Groups of Pets)'})\n",
    "table = sm.stats.Table(tab)\n",
    "print(\"Chi-Square Test of Independence: p-value = {:.3E}\".format(sp.stats.chi2_contingency(tab)[1]))\n",
    "display(table.standardized_resids)\n",
    "\n",
    "stacked_barplot(tab, \"Adoption Speed by Type\")\n",
    "plt.show()"
   ]
  },
  {
   "cell_type": "code",
   "execution_count": 11,
   "metadata": {
    "_uuid": "fb890c4fedda649e40b02d41824172b3499f9877"
   },
   "outputs": [
    {
     "data": {
      "image/png": "[encoded data removed]",
      "text/plain": [
       "<Figure size 864x360 with 1 Axes>"
      ]
     },
     "metadata": {},
     "output_type": "display_data"
    }
   ],
   "source": [
    "plt.figure(figsize=(12,5))\n",
    "sns.distplot(train['Age'], kde=False, bins=100, hist_kws=dict(alpha=0.85), color=sns.color_palette(\"Spectral\", 5)[4]).set_title('Age Distribution')\n",
    "plt.show()"
   ]
  },
  {
   "cell_type": "markdown",
   "metadata": {
    "_uuid": "a277a29156e974d9c586b5c3ea69a5ac82a3942c"
   },
   "source": [
    "There seems to be a large number of outliers (very old pets), but the median value (50th percentile) is the same for both cats and dogs. The average age of pets up for adoption is 3 months. \n",
    "\n",
    "* *Fun fact*: This coincidences with the end of socialization period and the start of the juvenile period in dogs. Cats on the other hand are still considered kittens for another 3 months."
   ]
  },
  {
   "cell_type": "code",
   "execution_count": 12,
   "metadata": {
    "_uuid": "a4f52ebb249efdc2ed456696be3de58c3ed55098"
   },
   "outputs": [
    {
     "data": {
      "text/html": [
       "<div>\n",
       "<style scoped>\n",
       "    .dataframe tbody tr th:only-of-type {\n",
       "        vertical-align: middle;\n",
       "    }\n",
       "\n",
       "    .dataframe tbody tr th {\n",
       "        vertical-align: top;\n",
       "    }\n",
       "\n",
       "    .dataframe thead tr th {\n",
       "        text-align: left;\n",
       "    }\n",
       "\n",
       "    .dataframe thead tr:last-of-type th {\n",
       "        text-align: right;\n",
       "    }\n",
       "</style>\n",
       "<table border=\"1\" class=\"dataframe\">\n",
       "  <thead>\n",
       "    <tr>\n",
       "      <th></th>\n",
       "      <th colspan=\"8\" halign=\"left\">Age</th>\n",
       "    </tr>\n",
       "    <tr>\n",
       "      <th></th>\n",
       "      <th>count</th>\n",
       "      <th>mean</th>\n",
       "      <th>std</th>\n",
       "      <th>min</th>\n",
       "      <th>25%</th>\n",
       "      <th>50%</th>\n",
       "      <th>75%</th>\n",
       "      <th>max</th>\n",
       "    </tr>\n",
       "    <tr>\n",
       "      <th>AdoptionSpeed</th>\n",
       "      <th></th>\n",
       "      <th></th>\n",
       "      <th></th>\n",
       "      <th></th>\n",
       "      <th></th>\n",
       "      <th></th>\n",
       "      <th></th>\n",
       "      <th></th>\n",
       "    </tr>\n",
       "  </thead>\n",
       "  <tbody>\n",
       "    <tr>\n",
       "      <th>0</th>\n",
       "      <td>410.0</td>\n",
       "      <td>10.451220</td>\n",
       "      <td>17.775118</td>\n",
       "      <td>0.0</td>\n",
       "      <td>2.0</td>\n",
       "      <td>3.0</td>\n",
       "      <td>12.0</td>\n",
       "      <td>120.0</td>\n",
       "    </tr>\n",
       "    <tr>\n",
       "      <th>1</th>\n",
       "      <td>3090.0</td>\n",
       "      <td>8.488350</td>\n",
       "      <td>15.746187</td>\n",
       "      <td>0.0</td>\n",
       "      <td>2.0</td>\n",
       "      <td>2.0</td>\n",
       "      <td>6.0</td>\n",
       "      <td>147.0</td>\n",
       "    </tr>\n",
       "    <tr>\n",
       "      <th>2</th>\n",
       "      <td>4037.0</td>\n",
       "      <td>8.823631</td>\n",
       "      <td>16.779013</td>\n",
       "      <td>0.0</td>\n",
       "      <td>2.0</td>\n",
       "      <td>3.0</td>\n",
       "      <td>6.0</td>\n",
       "      <td>156.0</td>\n",
       "    </tr>\n",
       "    <tr>\n",
       "      <th>3</th>\n",
       "      <td>3259.0</td>\n",
       "      <td>10.189936</td>\n",
       "      <td>18.672104</td>\n",
       "      <td>0.0</td>\n",
       "      <td>2.0</td>\n",
       "      <td>3.0</td>\n",
       "      <td>9.0</td>\n",
       "      <td>212.0</td>\n",
       "    </tr>\n",
       "    <tr>\n",
       "      <th>4</th>\n",
       "      <td>4197.0</td>\n",
       "      <td>13.667858</td>\n",
       "      <td>20.177460</td>\n",
       "      <td>0.0</td>\n",
       "      <td>3.0</td>\n",
       "      <td>6.0</td>\n",
       "      <td>15.0</td>\n",
       "      <td>255.0</td>\n",
       "    </tr>\n",
       "  </tbody>\n",
       "</table>\n",
       "</div>"
      ],
      "text/plain": [
       "                  Age                                                  \n",
       "                count       mean        std  min  25%  50%   75%    max\n",
       "AdoptionSpeed                                                          \n",
       "0               410.0  10.451220  17.775118  0.0  2.0  3.0  12.0  120.0\n",
       "1              3090.0   8.488350  15.746187  0.0  2.0  2.0   6.0  147.0\n",
       "2              4037.0   8.823631  16.779013  0.0  2.0  3.0   6.0  156.0\n",
       "3              3259.0  10.189936  18.672104  0.0  2.0  3.0   9.0  212.0\n",
       "4              4197.0  13.667858  20.177460  0.0  3.0  6.0  15.0  255.0"
      ]
     },
     "metadata": {},
     "output_type": "display_data"
    },
    {
     "name": "stderr",
     "output_type": "stream",
     "text": [
      "/opt/conda/lib/python3.6/site-packages/scipy/stats/stats.py:1713: FutureWarning: Using a non-tuple sequence for multidimensional indexing is deprecated; use `arr[tuple(seq)]` instead of `arr[seq]`. In the future this will be interpreted as an array index, `arr[np.array(seq)]`, which will result either in an error or a different result.\n",
      "  return np.add.reduce(sorted[indexer] * weights, axis=axis) / sumval\n"
     ]
    },
    {
     "data": {
      "image/png": "[encoded data removed]",
      "text/plain": [
       "<Figure size 720x360 with 1 Axes>"
      ]
     },
     "metadata": {},
     "output_type": "display_data"
    }
   ],
   "source": [
    "display(train[['AdoptionSpeed', 'Age']].groupby('AdoptionSpeed').describe())\n",
    "sns.barplot(x=train.AdoptionSpeed, y=train.Age, palette = 'Spectral')\n",
    "plt.show()"
   ]
  },
  {
   "cell_type": "markdown",
   "metadata": {
    "_uuid": "b44f279179824fbdc4bc1d04c6831bf8241ae4b7"
   },
   "source": [
    "As expected, pets that are not adopted after 100 days are on average much older pets. Interestingly, the pets that were adopted on the same day ranged in all ages. There must be another factor in play that makes people adopt immediately within one day.\n"
   ]
  },
  {
   "cell_type": "markdown",
   "metadata": {
    "_uuid": "c6565c5448f3a849a1bc05457017c0794ff1292c"
   },
   "source": [
    "### PhotoAmt - Can you have too many cute pictures? \n",
    "\n",
    "    Spoiler Alert: You can't!"
   ]
  },
  {
   "cell_type": "code",
   "execution_count": 13,
   "metadata": {
    "_uuid": "0f41770aed6790341863de7d93dd8071de5a3e4a"
   },
   "outputs": [
    {
     "data": {
      "image/png": "[encoded data removed]",
      "text/plain": [
       "<Figure size 720x360 with 1 Axes>"
      ]
     },
     "metadata": {},
     "output_type": "display_data"
    }
   ],
   "source": [
    "plt.figure(figsize=(10,5))\n",
    "sns.distplot(train['PhotoAmt'], kde=False, bins=30, hist_kws=dict(alpha=0.85), color=sns.color_palette(\"Spectral\", 5)[4]).set_title('PhotoAmt Distribution')\n",
    "plt.show()"
   ]
  },
  {
   "cell_type": "markdown",
   "metadata": {
    "_uuid": "2c3b189d3dbc576348f34e80a15cb42e3188b265"
   },
   "source": [
    "It's highly unlikely that the difference between 7 and 8 pictures will be the deciding factor for adoption, but we can group the number of photos  into a new variable (***PhotosType***).\n",
    "\n",
    "The threshold for the number of photos for each class were somewhat arbitrarily, but the histogram above shows a steep drop in PhotoAmt after 5. The ***PhotoType*** classes correspond to the following number of pictures:\n",
    "> * *No Photos*: 0 photos available\n",
    "> * *Few Photos*: Between 1-5 photos\n",
    "> * *Many Photos*: More than 5 photos"
   ]
  },
  {
   "cell_type": "code",
   "execution_count": 14,
   "metadata": {
    "_uuid": "6342889727da8a0a6b4441b6bae09ce5d142ad4c",
    "collapsed": true,
    "jupyter": {
     "outputs_hidden": true
    }
   },
   "outputs": [],
   "source": [
    "train['PhotosType'] = \"No Photos\"\n",
    "train['PhotosType'] = np.where(train['PhotoAmt']>1, 'Few Photos', train['PhotosType'])\n",
    "train['PhotosType'] = np.where(train['PhotoAmt']>5, 'Many Photos', train['PhotosType'])\n",
    "\n",
    "test['PhotosType'] = \"No Photos\"\n",
    "test['PhotosType'] = np.where(test['PhotoAmt']>1, 'Few Photos', test['PhotosType'])\n",
    "test['PhotosType'] = np.where(test['PhotoAmt']>5, 'Many Photos', test['PhotosType'])"
   ]
  },
  {
   "cell_type": "code",
   "execution_count": 15,
   "metadata": {
    "_uuid": "70ba92a4848410e0de9bfeb64a29785fe704b70c"
   },
   "outputs": [
    {
     "name": "stdout",
     "output_type": "stream",
     "text": [
      "Number of Pets Adopted by Number of Photos Available\n"
     ]
    },
    {
     "data": {
      "text/html": [
       "<div>\n",
       "<style scoped>\n",
       "    .dataframe tbody tr th:only-of-type {\n",
       "        vertical-align: middle;\n",
       "    }\n",
       "\n",
       "    .dataframe tbody tr th {\n",
       "        vertical-align: top;\n",
       "    }\n",
       "\n",
       "    .dataframe thead th {\n",
       "        text-align: right;\n",
       "    }\n",
       "</style>\n",
       "<table border=\"1\" class=\"dataframe\">\n",
       "  <thead>\n",
       "    <tr style=\"text-align: right;\">\n",
       "      <th>AdoptionSpeed</th>\n",
       "      <th>0</th>\n",
       "      <th>1</th>\n",
       "      <th>2</th>\n",
       "      <th>3</th>\n",
       "      <th>4</th>\n",
       "    </tr>\n",
       "    <tr>\n",
       "      <th>PhotosType</th>\n",
       "      <th></th>\n",
       "      <th></th>\n",
       "      <th></th>\n",
       "      <th></th>\n",
       "      <th></th>\n",
       "    </tr>\n",
       "  </thead>\n",
       "  <tbody>\n",
       "    <tr>\n",
       "      <th>Few Photos</th>\n",
       "      <td>268</td>\n",
       "      <td>2003</td>\n",
       "      <td>2460</td>\n",
       "      <td>1818</td>\n",
       "      <td>2508</td>\n",
       "    </tr>\n",
       "    <tr>\n",
       "      <th>Many Photos</th>\n",
       "      <td>43</td>\n",
       "      <td>438</td>\n",
       "      <td>758</td>\n",
       "      <td>815</td>\n",
       "      <td>466</td>\n",
       "    </tr>\n",
       "    <tr>\n",
       "      <th>No Photos</th>\n",
       "      <td>99</td>\n",
       "      <td>649</td>\n",
       "      <td>819</td>\n",
       "      <td>626</td>\n",
       "      <td>1223</td>\n",
       "    </tr>\n",
       "  </tbody>\n",
       "</table>\n",
       "</div>"
      ],
      "text/plain": [
       "AdoptionSpeed    0     1     2     3     4\n",
       "PhotosType                                \n",
       "Few Photos     268  2003  2460  1818  2508\n",
       "Many Photos     43   438   758   815   466\n",
       "No Photos       99   649   819   626  1223"
      ]
     },
     "metadata": {},
     "output_type": "display_data"
    },
    {
     "data": {
      "image/png": "[encoded data removed]",
      "text/plain": [
       "<Figure size 720x288 with 1 Axes>"
      ]
     },
     "metadata": {},
     "output_type": "display_data"
    },
    {
     "name": "stdout",
     "output_type": "stream",
     "text": [
      "Chi-Square Test of Independence: p-value = 3.302E-76\n"
     ]
    },
    {
     "data": {
      "text/html": [
       "<div>\n",
       "<style scoped>\n",
       "    .dataframe tbody tr th:only-of-type {\n",
       "        vertical-align: middle;\n",
       "    }\n",
       "\n",
       "    .dataframe tbody tr th {\n",
       "        vertical-align: top;\n",
       "    }\n",
       "\n",
       "    .dataframe thead th {\n",
       "        text-align: right;\n",
       "    }\n",
       "</style>\n",
       "<table border=\"1\" class=\"dataframe\">\n",
       "  <thead>\n",
       "    <tr style=\"text-align: right;\">\n",
       "      <th>AdoptionSpeed</th>\n",
       "      <th>0</th>\n",
       "      <th>1</th>\n",
       "      <th>2</th>\n",
       "      <th>3</th>\n",
       "      <th>4</th>\n",
       "    </tr>\n",
       "    <tr>\n",
       "      <th>PhotosType</th>\n",
       "      <th></th>\n",
       "      <th></th>\n",
       "      <th></th>\n",
       "      <th></th>\n",
       "      <th></th>\n",
       "    </tr>\n",
       "  </thead>\n",
       "  <tbody>\n",
       "    <tr>\n",
       "      <th>Few Photos</th>\n",
       "      <td>2.081322</td>\n",
       "      <td>5.630655</td>\n",
       "      <td>0.802700</td>\n",
       "      <td>-6.101690</td>\n",
       "      <td>-1.016624</td>\n",
       "    </tr>\n",
       "    <tr>\n",
       "      <th>Many Photos</th>\n",
       "      <td>-3.470047</td>\n",
       "      <td>-4.393020</td>\n",
       "      <td>3.912735</td>\n",
       "      <td>14.150472</td>\n",
       "      <td>-11.647052</td>\n",
       "    </tr>\n",
       "    <tr>\n",
       "      <th>No Photos</th>\n",
       "      <td>0.666870</td>\n",
       "      <td>-2.648652</td>\n",
       "      <td>-4.424175</td>\n",
       "      <td>-5.501059</td>\n",
       "      <td>11.568863</td>\n",
       "    </tr>\n",
       "  </tbody>\n",
       "</table>\n",
       "</div>"
      ],
      "text/plain": [
       "AdoptionSpeed         0         1         2          3          4\n",
       "PhotosType                                                       \n",
       "Few Photos     2.081322  5.630655  0.802700  -6.101690  -1.016624\n",
       "Many Photos   -3.470047 -4.393020  3.912735  14.150472 -11.647052\n",
       "No Photos      0.666870 -2.648652 -4.424175  -5.501059  11.568863"
      ]
     },
     "metadata": {},
     "output_type": "display_data"
    },
    {
     "data": {
      "image/png": "[encoded data removed]",
      "text/plain": [
       "<Figure size 720x360 with 1 Axes>"
      ]
     },
     "metadata": {},
     "output_type": "display_data"
    }
   ],
   "source": [
    "df_plot = train.groupby(['PhotosType', 'AdoptionSpeed']).size().reset_index().pivot(\n",
    "    columns='AdoptionSpeed', index='PhotosType', values=0)\n",
    "print(\"Number of Pets Adopted by Number of Photos Available\")\n",
    "display(df_plot)\n",
    "\n",
    "ggDF = train['PhotosType'].value_counts()\n",
    "count_overview(ggDF, 'Photos Type Count')\n",
    "\n",
    "tab = pd.crosstab(train['PhotosType'], train['AdoptionSpeed'])\n",
    "table = sm.stats.Table(tab)\n",
    "print(\"Chi-Square Test of Independence: p-value = {:.3E}\".format(sp.stats.chi2_contingency(tab)[1]))\n",
    "display(table.standardized_resids)\n",
    "\n",
    "stacked_barplot(tab, \"Adoption Speed by Number of Photos\")\n",
    "plt.show()"
   ]
  },
  {
   "cell_type": "markdown",
   "metadata": {
    "_uuid": "0365defa1b7cfe3cf6fa63bc37d0b42adb857202"
   },
   "source": [
    "Having no photos seems to be a big factor associated with pets not being adopted after 100 days."
   ]
  },
  {
   "cell_type": "markdown",
   "metadata": {
    "_uuid": "8cdefc1b09c924c9f37045fe5c6f15e3a69d68f5"
   },
   "source": [
    "### Location (Location, Location)"
   ]
  },
  {
   "cell_type": "code",
   "execution_count": 16,
   "metadata": {
    "_uuid": "7d575ca9a69f4b909790e4c771a88fd61b101685"
   },
   "outputs": [
    {
     "data": {
      "text/html": [
       "<div>\n",
       "<style scoped>\n",
       "    .dataframe tbody tr th:only-of-type {\n",
       "        vertical-align: middle;\n",
       "    }\n",
       "\n",
       "    .dataframe tbody tr th {\n",
       "        vertical-align: top;\n",
       "    }\n",
       "\n",
       "    .dataframe thead th {\n",
       "        text-align: right;\n",
       "    }\n",
       "</style>\n",
       "<table border=\"1\" class=\"dataframe\">\n",
       "  <thead>\n",
       "    <tr style=\"text-align: right;\">\n",
       "      <th>AdoptionSpeed</th>\n",
       "      <th>0</th>\n",
       "      <th>1</th>\n",
       "      <th>2</th>\n",
       "      <th>3</th>\n",
       "      <th>4</th>\n",
       "      <th>Total</th>\n",
       "    </tr>\n",
       "    <tr>\n",
       "      <th>State</th>\n",
       "      <th></th>\n",
       "      <th></th>\n",
       "      <th></th>\n",
       "      <th></th>\n",
       "      <th></th>\n",
       "      <th></th>\n",
       "    </tr>\n",
       "  </thead>\n",
       "  <tbody>\n",
       "    <tr>\n",
       "      <th>Melaka</th>\n",
       "      <td>4</td>\n",
       "      <td>18</td>\n",
       "      <td>23</td>\n",
       "      <td>12</td>\n",
       "      <td>80</td>\n",
       "      <td>137</td>\n",
       "    </tr>\n",
       "    <tr>\n",
       "      <th>Kedah</th>\n",
       "      <td>3</td>\n",
       "      <td>14</td>\n",
       "      <td>34</td>\n",
       "      <td>23</td>\n",
       "      <td>36</td>\n",
       "      <td>110</td>\n",
       "    </tr>\n",
       "    <tr>\n",
       "      <th>Selangor</th>\n",
       "      <td>246</td>\n",
       "      <td>1877</td>\n",
       "      <td>2435</td>\n",
       "      <td>2004</td>\n",
       "      <td>2152</td>\n",
       "      <td>8714</td>\n",
       "    </tr>\n",
       "    <tr>\n",
       "      <th>Pulau Pinang</th>\n",
       "      <td>8</td>\n",
       "      <td>122</td>\n",
       "      <td>216</td>\n",
       "      <td>197</td>\n",
       "      <td>300</td>\n",
       "      <td>843</td>\n",
       "    </tr>\n",
       "    <tr>\n",
       "      <th>Perak</th>\n",
       "      <td>3</td>\n",
       "      <td>48</td>\n",
       "      <td>111</td>\n",
       "      <td>117</td>\n",
       "      <td>141</td>\n",
       "      <td>420</td>\n",
       "    </tr>\n",
       "    <tr>\n",
       "      <th>Negeri Sembilan</th>\n",
       "      <td>4</td>\n",
       "      <td>36</td>\n",
       "      <td>63</td>\n",
       "      <td>42</td>\n",
       "      <td>108</td>\n",
       "      <td>253</td>\n",
       "    </tr>\n",
       "    <tr>\n",
       "      <th>Pahang</th>\n",
       "      <td>3</td>\n",
       "      <td>29</td>\n",
       "      <td>14</td>\n",
       "      <td>16</td>\n",
       "      <td>23</td>\n",
       "      <td>85</td>\n",
       "    </tr>\n",
       "    <tr>\n",
       "      <th>Johor</th>\n",
       "      <td>23</td>\n",
       "      <td>113</td>\n",
       "      <td>136</td>\n",
       "      <td>103</td>\n",
       "      <td>132</td>\n",
       "      <td>507</td>\n",
       "    </tr>\n",
       "    <tr>\n",
       "      <th>Sarawak</th>\n",
       "      <td>1</td>\n",
       "      <td>1</td>\n",
       "      <td>0</td>\n",
       "      <td>2</td>\n",
       "      <td>9</td>\n",
       "      <td>13</td>\n",
       "    </tr>\n",
       "    <tr>\n",
       "      <th>Sabah</th>\n",
       "      <td>1</td>\n",
       "      <td>6</td>\n",
       "      <td>3</td>\n",
       "      <td>4</td>\n",
       "      <td>8</td>\n",
       "      <td>22</td>\n",
       "    </tr>\n",
       "    <tr>\n",
       "      <th>Terengganu</th>\n",
       "      <td>0</td>\n",
       "      <td>9</td>\n",
       "      <td>2</td>\n",
       "      <td>6</td>\n",
       "      <td>9</td>\n",
       "      <td>26</td>\n",
       "    </tr>\n",
       "    <tr>\n",
       "      <th>Kelantan</th>\n",
       "      <td>2</td>\n",
       "      <td>3</td>\n",
       "      <td>3</td>\n",
       "      <td>1</td>\n",
       "      <td>6</td>\n",
       "      <td>15</td>\n",
       "    </tr>\n",
       "    <tr>\n",
       "      <th>Kuala Lumpur</th>\n",
       "      <td>112</td>\n",
       "      <td>814</td>\n",
       "      <td>996</td>\n",
       "      <td>731</td>\n",
       "      <td>1192</td>\n",
       "      <td>3845</td>\n",
       "    </tr>\n",
       "    <tr>\n",
       "      <th>Labuan</th>\n",
       "      <td>0</td>\n",
       "      <td>0</td>\n",
       "      <td>1</td>\n",
       "      <td>1</td>\n",
       "      <td>1</td>\n",
       "      <td>3</td>\n",
       "    </tr>\n",
       "  </tbody>\n",
       "</table>\n",
       "</div>"
      ],
      "text/plain": [
       "AdoptionSpeed      0     1     2     3     4  Total\n",
       "State                                              \n",
       "Melaka             4    18    23    12    80    137\n",
       "Kedah              3    14    34    23    36    110\n",
       "Selangor         246  1877  2435  2004  2152   8714\n",
       "Pulau Pinang       8   122   216   197   300    843\n",
       "Perak              3    48   111   117   141    420\n",
       "Negeri Sembilan    4    36    63    42   108    253\n",
       "Pahang             3    29    14    16    23     85\n",
       "Johor             23   113   136   103   132    507\n",
       "Sarawak            1     1     0     2     9     13\n",
       "Sabah              1     6     3     4     8     22\n",
       "Terengganu         0     9     2     6     9     26\n",
       "Kelantan           2     3     3     1     6     15\n",
       "Kuala Lumpur     112   814   996   731  1192   3845\n",
       "Labuan             0     0     1     1     1      3"
      ]
     },
     "metadata": {},
     "output_type": "display_data"
    },
    {
     "data": {
      "image/png": "[encoded data removed]",
      "text/plain": [
       "<Figure size 720x432 with 1 Axes>"
      ]
     },
     "metadata": {},
     "output_type": "display_data"
    },
    {
     "data": {
      "image/png": "[encoded data removed]",
      "text/plain": [
       "<Figure size 720x360 with 1 Axes>"
      ]
     },
     "metadata": {},
     "output_type": "display_data"
    }
   ],
   "source": [
    "states = pd.read_csv('../input/state_labels.csv')\n",
    "states.index = states['StateID']\n",
    "states_dict = states.to_dict()\n",
    "\n",
    "state_counts = pd.crosstab(train['State'], train['AdoptionSpeed'])\n",
    "state_counts.index = state_counts.index.map(states_dict['StateName'])\n",
    "\n",
    "state_totals = state_counts.copy(deep=True)\n",
    "state_totals['Total'] = state_counts.sum(axis=1)\n",
    "display(state_totals)\n",
    "\n",
    "\n",
    "plt.figure(figsize=(10,6))\n",
    "ax = sns.barplot(x=state_totals.Total, y = state_totals.index, palette=\"Spectral\")\n",
    "ax.set_title(\"Adoptions by State\")\n",
    "plt.xlabel('Count')\n",
    "plt.tight_layout()\n",
    "plt.show()\n",
    "\n",
    "\n",
    "stacked_barplot(state_counts, 'Adoption Speed by State')"
   ]
  },
  {
   "cell_type": "markdown",
   "metadata": {
    "_uuid": "dd7d7bfa24936f45a5ac0ac1fc3f5c657de294ba"
   },
   "source": [
    "There is a clear difference in adoption speeds between the different states. Sarawak and Melaka have the highest proportion of pets left unadopted after 100 days compared to Kelatan and Sarawak, which have the lowest proportions."
   ]
  },
  {
   "cell_type": "markdown",
   "metadata": {
    "_uuid": "408848a82821c40509caa6b7c9c8e207978f28f3"
   },
   "source": [
    "### Purebreed vs Mudblood Mutts?"
   ]
  },
  {
   "cell_type": "code",
   "execution_count": 17,
   "metadata": {
    "_uuid": "bb871f981d8e1df59b43313ac63b2d23a04fe0fa"
   },
   "outputs": [
    {
     "name": "stdout",
     "output_type": "stream",
     "text": [
      "Number of Pets Adopted by Number of Photos Available\n"
     ]
    },
    {
     "data": {
      "text/html": [
       "<div>\n",
       "<style scoped>\n",
       "    .dataframe tbody tr th:only-of-type {\n",
       "        vertical-align: middle;\n",
       "    }\n",
       "\n",
       "    .dataframe tbody tr th {\n",
       "        vertical-align: top;\n",
       "    }\n",
       "\n",
       "    .dataframe thead th {\n",
       "        text-align: right;\n",
       "    }\n",
       "</style>\n",
       "<table border=\"1\" class=\"dataframe\">\n",
       "  <thead>\n",
       "    <tr style=\"text-align: right;\">\n",
       "      <th>AdoptionSpeed</th>\n",
       "      <th>0</th>\n",
       "      <th>1</th>\n",
       "      <th>2</th>\n",
       "      <th>3</th>\n",
       "      <th>4</th>\n",
       "    </tr>\n",
       "    <tr>\n",
       "      <th>Purebreed</th>\n",
       "      <th></th>\n",
       "      <th></th>\n",
       "      <th></th>\n",
       "      <th></th>\n",
       "      <th></th>\n",
       "    </tr>\n",
       "  </thead>\n",
       "  <tbody>\n",
       "    <tr>\n",
       "      <th>Mixed Breed</th>\n",
       "      <td>157</td>\n",
       "      <td>876</td>\n",
       "      <td>1133</td>\n",
       "      <td>992</td>\n",
       "      <td>1073</td>\n",
       "    </tr>\n",
       "    <tr>\n",
       "      <th>Pure Breed</th>\n",
       "      <td>253</td>\n",
       "      <td>2214</td>\n",
       "      <td>2904</td>\n",
       "      <td>2267</td>\n",
       "      <td>3124</td>\n",
       "    </tr>\n",
       "  </tbody>\n",
       "</table>\n",
       "</div>"
      ],
      "text/plain": [
       "AdoptionSpeed    0     1     2     3     4\n",
       "Purebreed                                 \n",
       "Mixed Breed    157   876  1133   992  1073\n",
       "Pure Breed     253  2214  2904  2267  3124"
      ]
     },
     "metadata": {},
     "output_type": "display_data"
    },
    {
     "data": {
      "image/png": "[encoded data removed]",
      "text/plain": [
       "<Figure size 720x288 with 1 Axes>"
      ]
     },
     "metadata": {},
     "output_type": "display_data"
    },
    {
     "name": "stdout",
     "output_type": "stream",
     "text": [
      "Chi-Square Test of Independence: p-value = 9.746E-09\n"
     ]
    },
    {
     "data": {
      "text/html": [
       "<div>\n",
       "<style scoped>\n",
       "    .dataframe tbody tr th:only-of-type {\n",
       "        vertical-align: middle;\n",
       "    }\n",
       "\n",
       "    .dataframe tbody tr th {\n",
       "        vertical-align: top;\n",
       "    }\n",
       "\n",
       "    .dataframe thead th {\n",
       "        text-align: right;\n",
       "    }\n",
       "</style>\n",
       "<table border=\"1\" class=\"dataframe\">\n",
       "  <thead>\n",
       "    <tr style=\"text-align: right;\">\n",
       "      <th>AdoptionSpeed</th>\n",
       "      <th>0</th>\n",
       "      <th>1</th>\n",
       "      <th>2</th>\n",
       "      <th>3</th>\n",
       "      <th>4</th>\n",
       "    </tr>\n",
       "    <tr>\n",
       "      <th>Purebreed</th>\n",
       "      <th></th>\n",
       "      <th></th>\n",
       "      <th></th>\n",
       "      <th></th>\n",
       "      <th></th>\n",
       "    </tr>\n",
       "  </thead>\n",
       "  <tbody>\n",
       "    <tr>\n",
       "      <th>Mixed Breed</th>\n",
       "      <td>4.595</td>\n",
       "      <td>0.179756</td>\n",
       "      <td>-0.255053</td>\n",
       "      <td>3.181495</td>\n",
       "      <td>-4.501907</td>\n",
       "    </tr>\n",
       "    <tr>\n",
       "      <th>Pure Breed</th>\n",
       "      <td>-4.595</td>\n",
       "      <td>-0.179756</td>\n",
       "      <td>0.255053</td>\n",
       "      <td>-3.181495</td>\n",
       "      <td>4.501907</td>\n",
       "    </tr>\n",
       "  </tbody>\n",
       "</table>\n",
       "</div>"
      ],
      "text/plain": [
       "AdoptionSpeed      0         1         2         3         4\n",
       "Purebreed                                                   \n",
       "Mixed Breed    4.595  0.179756 -0.255053  3.181495 -4.501907\n",
       "Pure Breed    -4.595 -0.179756  0.255053 -3.181495  4.501907"
      ]
     },
     "metadata": {},
     "output_type": "display_data"
    },
    {
     "data": {
      "image/png": "[encoded data removed]",
      "text/plain": [
       "<Figure size 720x360 with 1 Axes>"
      ]
     },
     "metadata": {},
     "output_type": "display_data"
    }
   ],
   "source": [
    "train['Purebreed'] = np.where(train['Breed2'] == 0, 'Pure Breed', 'Mixed Breed')\n",
    "test['Purebreed'] = np.where(test['Breed2'] == 0, 'Pure Breed', 'Mixed Breed')\n",
    "\n",
    "df_plot = train.groupby(['Purebreed', 'AdoptionSpeed']).size().reset_index().pivot(\n",
    "    columns='AdoptionSpeed', index='Purebreed', values=0)\n",
    "print(\"Number of Pets Adopted by Number of Photos Available\")\n",
    "display(df_plot)\n",
    "\n",
    "ggDF = train['Purebreed'].value_counts()\n",
    "count_overview(ggDF, 'Photos Type Count')\n",
    "\n",
    "tab = pd.crosstab(train['Purebreed'], train['AdoptionSpeed'])\n",
    "table = sm.stats.Table(tab)\n",
    "print(\"Chi-Square Test of Independence: p-value = {:.3E}\".format(sp.stats.chi2_contingency(tab)[1]))\n",
    "display(table.standardized_resids)\n",
    "\n",
    "stacked_barplot(tab, \"Adoption Speed by Number of Photos\")\n",
    "plt.show()"
   ]
  },
  {
   "cell_type": "markdown",
   "metadata": {
    "_uuid": "71804e5c37c20b21345f5b3ac2e2ed627b587c1a"
   },
   "source": [
    "Mixed breeds seem to be adopted faster than pure breeds"
   ]
  },
  {
   "cell_type": "markdown",
   "metadata": {
    "_uuid": "6d0fb256303a6bc115691922937536f91e67350f"
   },
   "source": [
    "### What's better than free?\n",
    "\n",
    "First, let's see the distribution of fees"
   ]
  },
  {
   "cell_type": "code",
   "execution_count": 18,
   "metadata": {
    "_uuid": "272fde3ebae03fcc3dda2352faec16d95d4c7e3f"
   },
   "outputs": [
    {
     "data": {
      "image/png": "[encoded data removed]",
      "text/plain": [
       "<Figure size 720x360 with 1 Axes>"
      ]
     },
     "metadata": {},
     "output_type": "display_data"
    }
   ],
   "source": [
    "ax = sns.distplot(train['Fee'], kde=False, bins=50, hist_kws=dict(alpha=0.85), color=sns.color_palette(\"Spectral\", 5)[4])\n",
    "ax.set_title('Fee Distribution (Log Scale)')\n",
    "ax.set_yscale('log')"
   ]
  },
  {
   "cell_type": "markdown",
   "metadata": {
    "_uuid": "1ddd2057a743ed73f6cebe2b3037ec851d33dcee"
   },
   "source": [
    "* *Note*: The fee cost on the y-axis is in log scale. So there is several thousand more pets up for adoption with no cost than at any price.\n",
    "\n",
    "Let's convert the fee variable into a new categorical variable (***PayorNot***). This group is composed of:\n",
    "> * Free - No fee associated with adoption\n",
    "> * Paid Adoption - Fee associated with adoption "
   ]
  },
  {
   "cell_type": "code",
   "execution_count": 19,
   "metadata": {
    "_uuid": "eaada0dac1fcb655550fcf386999e98b6e601e8a"
   },
   "outputs": [
    {
     "name": "stdout",
     "output_type": "stream",
     "text": [
      "Number of Pets Adopted by Number of Photos Available\n"
     ]
    },
    {
     "data": {
      "text/html": [
       "<div>\n",
       "<style scoped>\n",
       "    .dataframe tbody tr th:only-of-type {\n",
       "        vertical-align: middle;\n",
       "    }\n",
       "\n",
       "    .dataframe tbody tr th {\n",
       "        vertical-align: top;\n",
       "    }\n",
       "\n",
       "    .dataframe thead th {\n",
       "        text-align: right;\n",
       "    }\n",
       "</style>\n",
       "<table border=\"1\" class=\"dataframe\">\n",
       "  <thead>\n",
       "    <tr style=\"text-align: right;\">\n",
       "      <th>AdoptionSpeed</th>\n",
       "      <th>0</th>\n",
       "      <th>1</th>\n",
       "      <th>2</th>\n",
       "      <th>3</th>\n",
       "      <th>4</th>\n",
       "    </tr>\n",
       "    <tr>\n",
       "      <th>PayorNot</th>\n",
       "      <th></th>\n",
       "      <th></th>\n",
       "      <th></th>\n",
       "      <th></th>\n",
       "      <th></th>\n",
       "    </tr>\n",
       "  </thead>\n",
       "  <tbody>\n",
       "    <tr>\n",
       "      <th>Free</th>\n",
       "      <td>357</td>\n",
       "      <td>2611</td>\n",
       "      <td>3430</td>\n",
       "      <td>2789</td>\n",
       "      <td>3476</td>\n",
       "    </tr>\n",
       "    <tr>\n",
       "      <th>Paid Adoption</th>\n",
       "      <td>53</td>\n",
       "      <td>479</td>\n",
       "      <td>607</td>\n",
       "      <td>470</td>\n",
       "      <td>721</td>\n",
       "    </tr>\n",
       "  </tbody>\n",
       "</table>\n",
       "</div>"
      ],
      "text/plain": [
       "AdoptionSpeed    0     1     2     3     4\n",
       "PayorNot                                  \n",
       "Free           357  2611  3430  2789  3476\n",
       "Paid Adoption   53   479   607   470   721"
      ]
     },
     "metadata": {},
     "output_type": "display_data"
    },
    {
     "data": {
      "image/png": "[encoded data removed]",
      "text/plain": [
       "<Figure size 720x288 with 1 Axes>"
      ]
     },
     "metadata": {},
     "output_type": "display_data"
    },
    {
     "name": "stdout",
     "output_type": "stream",
     "text": [
      "Chi-Square Test of Independence: p-value = 5.575E-03\n"
     ]
    },
    {
     "data": {
      "text/html": [
       "<div>\n",
       "<style scoped>\n",
       "    .dataframe tbody tr th:only-of-type {\n",
       "        vertical-align: middle;\n",
       "    }\n",
       "\n",
       "    .dataframe tbody tr th {\n",
       "        vertical-align: top;\n",
       "    }\n",
       "\n",
       "    .dataframe thead th {\n",
       "        text-align: right;\n",
       "    }\n",
       "</style>\n",
       "<table border=\"1\" class=\"dataframe\">\n",
       "  <thead>\n",
       "    <tr style=\"text-align: right;\">\n",
       "      <th>AdoptionSpeed</th>\n",
       "      <th>0</th>\n",
       "      <th>1</th>\n",
       "      <th>2</th>\n",
       "      <th>3</th>\n",
       "      <th>4</th>\n",
       "    </tr>\n",
       "    <tr>\n",
       "      <th>PayorNot</th>\n",
       "      <th></th>\n",
       "      <th></th>\n",
       "      <th></th>\n",
       "      <th></th>\n",
       "      <th></th>\n",
       "    </tr>\n",
       "  </thead>\n",
       "  <tbody>\n",
       "    <tr>\n",
       "      <th>Free</th>\n",
       "      <td>1.481222</td>\n",
       "      <td>0.067103</td>\n",
       "      <td>1.03537</td>\n",
       "      <td>1.993102</td>\n",
       "      <td>-3.452485</td>\n",
       "    </tr>\n",
       "    <tr>\n",
       "      <th>Paid Adoption</th>\n",
       "      <td>-1.481222</td>\n",
       "      <td>-0.067103</td>\n",
       "      <td>-1.03537</td>\n",
       "      <td>-1.993102</td>\n",
       "      <td>3.452485</td>\n",
       "    </tr>\n",
       "  </tbody>\n",
       "</table>\n",
       "</div>"
      ],
      "text/plain": [
       "AdoptionSpeed         0         1        2         3         4\n",
       "PayorNot                                                      \n",
       "Free           1.481222  0.067103  1.03537  1.993102 -3.452485\n",
       "Paid Adoption -1.481222 -0.067103 -1.03537 -1.993102  3.452485"
      ]
     },
     "metadata": {},
     "output_type": "display_data"
    },
    {
     "data": {
      "image/png": "[encoded data removed]",
      "text/plain": [
       "<Figure size 720x360 with 1 Axes>"
      ]
     },
     "metadata": {},
     "output_type": "display_data"
    }
   ],
   "source": [
    "train['PayorNot'] = np.where(train['Fee'] == 0, 'Free', 'Paid Adoption')\n",
    "test['PayorNot'] = np.where(test['Fee'] == 0, 'Free', 'Paid Adoption')\n",
    "\n",
    "\n",
    "df_plot = train.groupby(['PayorNot', 'AdoptionSpeed']).size().reset_index().pivot(\n",
    "    columns='AdoptionSpeed', index='PayorNot', values=0).rename({0: 'Free', 1: 'Paid Adoption'})\n",
    "print(\"Number of Pets Adopted by Number of Photos Available\")\n",
    "display(df_plot)\n",
    "\n",
    "ggDF = train['PayorNot'].value_counts()\n",
    "count_overview(ggDF, 'Photos Type Count')\n",
    "\n",
    "tab = pd.crosstab(train['PayorNot'], train['AdoptionSpeed'])\n",
    "table = sm.stats.Table(tab)\n",
    "print(\"Chi-Square Test of Independence: p-value = {:.3E}\".format(sp.stats.chi2_contingency(tab)[1]))\n",
    "display(table.standardized_resids)\n",
    "\n",
    "stacked_barplot(tab, \"Adoption Speed by Number of Photos\")\n",
    "plt.show()"
   ]
  },
  {
   "cell_type": "markdown",
   "metadata": {
    "_uuid": "e9c166cc4016160b6dfe4221524baeb22a50519f"
   },
   "source": [
    "* The effects of a fee seems negligible, but there is some evidence that pets that are not adopted after the 100 days are likely to have a fee associated with them. This might be due to the adoption shelters attempting to recoup their costs."
   ]
  },
  {
   "cell_type": "code",
   "execution_count": 20,
   "metadata": {
    "_uuid": "d267a6e0fd7c504e52cee239c94148b9b6be2cb3"
   },
   "outputs": [
    {
     "data": {
      "image/png": "[encoded data removed]",
      "text/plain": [
       "<Figure size 864x360 with 1 Axes>"
      ]
     },
     "metadata": {},
     "output_type": "display_data"
    }
   ],
   "source": [
    "plt.figure(figsize=(12,5))\n",
    "sns.distplot(train[train['PayorNot'] != 'Free']['Fee'], kde=False, bins=30, hist_kws=dict(alpha=0.85), color=sns.color_palette(\"Spectral\", 5)[4]).set_title('Age Distribution')\n",
    "plt.show()"
   ]
  },
  {
   "cell_type": "markdown",
   "metadata": {
    "_uuid": "5dcc9316260dcd5952a51d047f52574460407425"
   },
   "source": [
    "### Length of Description"
   ]
  },
  {
   "cell_type": "code",
   "execution_count": 21,
   "metadata": {
    "_uuid": "0e4c4eb7643c2c31967694ab0f4da86d7f9bbd1f"
   },
   "outputs": [
    {
     "data": {
      "image/png": "[encoded data removed]",
      "text/plain": [
       "<Figure size 720x360 with 1 Axes>"
      ]
     },
     "metadata": {},
     "output_type": "display_data"
    }
   ],
   "source": [
    "train['DescriptionLength'] = train['Description'].apply(lambda x: len(str(x)))\n",
    "sns.distplot(train['DescriptionLength'], kde=False, bins=50, hist_kws=dict(alpha=0.85), color=sns.color_palette(\"Spectral\", 5)[4])\n",
    "plt.show()\n",
    "\n",
    "test['DescriptionLength'] = test['Description'].apply(lambda x: len(str(x)))\n"
   ]
  },
  {
   "cell_type": "code",
   "execution_count": 22,
   "metadata": {
    "_uuid": "a27e77603d626214e6052f16cf0b52e8020df263"
   },
   "outputs": [
    {
     "data": {
      "image/png": "[encoded data removed]",
      "text/plain": [
       "<Figure size 720x360 with 1 Axes>"
      ]
     },
     "metadata": {},
     "output_type": "display_data"
    }
   ],
   "source": [
    "sns.boxplot(x = train['AdoptionSpeed'], y = train['DescriptionLength'])\n",
    "plt.show()"
   ]
  },
  {
   "cell_type": "code",
   "execution_count": 23,
   "metadata": {
    "_uuid": "eafdd311ad642377b67979a35606b864015424cb"
   },
   "outputs": [
    {
     "name": "stderr",
     "output_type": "stream",
     "text": [
      "/opt/conda/lib/python3.6/site-packages/scipy/stats/stats.py:1713: FutureWarning: Using a non-tuple sequence for multidimensional indexing is deprecated; use `arr[tuple(seq)]` instead of `arr[seq]`. In the future this will be interpreted as an array index, `arr[np.array(seq)]`, which will result either in an error or a different result.\n",
      "  return np.add.reduce(sorted[indexer] * weights, axis=axis) / sumval\n"
     ]
    },
    {
     "data": {
      "image/png": "[encoded data removed]",
      "text/plain": [
       "<Figure size 720x360 with 1 Axes>"
      ]
     },
     "metadata": {},
     "output_type": "display_data"
    }
   ],
   "source": [
    "gr = train.groupby('AdoptionSpeed').DescriptionLength\n",
    "for label, arr in gr:\n",
    "    sns.kdeplot(arr, label=label, shade=True)"
   ]
  },
  {
   "cell_type": "markdown",
   "metadata": {
    "ExecuteTime": {
     "end_time": "2019-04-18T15:57:36.556305Z",
     "start_time": "2019-04-18T15:57:36.548290Z"
    }
   },
   "source": [
    "<a id='Caution-Variables'></a>"
   ]
  },
  {
   "cell_type": "markdown",
   "metadata": {
    "_uuid": "5727b715b900a27371949feee52bee75e2b0872a"
   },
   "source": [
    "## Caution Variables\n",
    "\n",
    "Some of the variables, such as *MaturitySize* or *FurLength*, include labels that are either \"Not Specified\" or \"Not Sure\". We will impute these unknown values are the mode (or most common variable)."
   ]
  },
  {
   "cell_type": "code",
   "execution_count": 24,
   "metadata": {
    "_uuid": "8b523ea8df514dac48a0509ebc02e7b38c154b1f",
    "collapsed": true,
    "jupyter": {
     "outputs_hidden": true
    }
   },
   "outputs": [],
   "source": [
    "caution_variables = ['MaturitySize', 'FurLength', 'Health', 'Vaccinated', 'Dewormed', 'Sterilized', 'Health']\n",
    "\n",
    "for variable in caution_variables:\n",
    "    train[variable].replace(0, train[variable].mode()[0], regex=True, inplace=True)\n",
    "    test[variable].replace(0, test[variable].mode()[0], regex=True, inplace=True)"
   ]
  },
  {
   "cell_type": "markdown",
   "metadata": {},
   "source": [
    "<a id='Data-Cleaning'></a>"
   ]
  },
  {
   "cell_type": "markdown",
   "metadata": {
    "_uuid": "b5fa70f5b2c531531572162cac9c7df1734718e0"
   },
   "source": [
    "## Data Cleaning"
   ]
  },
  {
   "cell_type": "code",
   "execution_count": 25,
   "metadata": {
    "_uuid": "6daaf56bce4e89ccf4958a5f0010ae650e0b6932",
    "collapsed": true,
    "jupyter": {
     "outputs_hidden": true
    }
   },
   "outputs": [],
   "source": [
    "clean_train = train.drop(columns=['Name', 'RescuerID', 'Description', 'PetID', 'AdoptionSpeed'])\n",
    "clean_test = test.drop(columns=['Name', 'RescuerID', 'Description', 'PetID'])"
   ]
  },
  {
   "cell_type": "markdown",
   "metadata": {
    "_uuid": "9a42c6e311c117a35ed031d08a506cffe4d1a120"
   },
   "source": [
    "### Label Encoding"
   ]
  },
  {
   "cell_type": "code",
   "execution_count": 26,
   "metadata": {
    "_uuid": "599e439e15581e9109ad1302946aa0b42a73c356",
    "collapsed": true,
    "jupyter": {
     "outputs_hidden": true
    }
   },
   "outputs": [],
   "source": [
    "cat_cols = ['PayorNot', 'NameorNot','PhotosType','Purebreed']\n",
    "\n",
    "for col in cat_cols:\n",
    "    label = LabelEncoder()\n",
    "    label.fit(list(clean_train[col].values))\n",
    "    clean_train[col] = label.transform(list(clean_train[col].values))\n",
    "    clean_test[col] = label.transform(list(clean_test[col].values))"
   ]
  },
  {
   "cell_type": "markdown",
   "metadata": {},
   "source": [
    "<a id='Tree-Ensemble-Modelling'></a>"
   ]
  },
  {
   "cell_type": "markdown",
   "metadata": {
    "_uuid": "8c304d59e51427f6547adbd1d42288929d831e52"
   },
   "source": [
    "## Tree Ensemble Modelling"
   ]
  },
  {
   "cell_type": "markdown",
   "metadata": {
    "_uuid": "4f676f954b387a3ac74769def862d399d114334c"
   },
   "source": [
    "Let's start by defining the evaluation criteria (quadratic weighted kappa). We will use the sci-kit learn's `cohen_kappa_score` function for cross-validation."
   ]
  },
  {
   "cell_type": "code",
   "execution_count": 27,
   "metadata": {
    "_uuid": "85e97e601629f830b805cca4c3cbd6b078eaf49e",
    "collapsed": true,
    "jupyter": {
     "outputs_hidden": true
    }
   },
   "outputs": [],
   "source": [
    "def metric(y1,y2):\n",
    "    return cohen_kappa_score(y1, y2, weights = 'quadratic')\n",
    "\n",
    "# Make scorer for scikit-learn\n",
    "scorer = make_scorer(metric)"
   ]
  },
  {
   "cell_type": "markdown",
   "metadata": {
    "_uuid": "48a914b48275f63d0db3d52af0d1f274adf9e147"
   },
   "source": [
    "Models: \n",
    "- XGBoost (xgboost.sklearn)\n",
    "- Adaboost (sklearn.ensemble.AdaBoostClassifier)\n",
    "- Random Forest (sklearn.ensemble.RandomForestClassifier)\n",
    "- Gradient Boosted (sklearn.ensembl.GradientBoostingClassifier)\n",
    "- Extra Trees (sklearn.ensembl.ExtraTreesClassifier)\n"
   ]
  },
  {
   "cell_type": "code",
   "execution_count": 28,
   "metadata": {
    "_kg_hide-input": false,
    "_uuid": "0cf7e9a749ebf80311b19c235c39cbbede630f28",
    "scrolled": true
   },
   "outputs": [
    {
     "name": "stdout",
     "output_type": "stream",
     "text": [
      "Fitting 3 folds for each of 16 candidates, totalling 48 fits\n"
     ]
    },
    {
     "name": "stderr",
     "output_type": "stream",
     "text": [
      "[Parallel(n_jobs=-1)]: Using backend LokyBackend with 4 concurrent workers.\n",
      "[Parallel(n_jobs=-1)]: Done  48 out of  48 | elapsed:  4.5min finished\n"
     ]
    },
    {
     "data": {
      "text/plain": [
       "{'learning_rate': 0.1,\n",
       " 'loss': 'deviance',\n",
       " 'max_depth': 5,\n",
       " 'max_features': 'auto',\n",
       " 'min_samples_leaf': 15,\n",
       " 'min_samples_split': 5,\n",
       " 'n_estimators': 100,\n",
       " 'random_state': 1234,\n",
       " 'subsample': 0.9}"
      ]
     },
     "execution_count": 28,
     "metadata": {},
     "output_type": "execute_result"
    }
   ],
   "source": [
    "gbm_model = GradientBoostingClassifier()\n",
    "gbm_grid = {\n",
    "    'loss' : ['deviance'],\n",
    "    'learning_rate' : [0.1],\n",
    "    'n_estimators' : [100],\n",
    "    'subsample' : [0.8, 0.9],\n",
    "    'min_samples_split' : [5,10],\n",
    "    'random_state' : [1234],\n",
    "    'max_depth' : [5, 7],\n",
    "    'max_features' : ['auto'],\n",
    "    'min_samples_leaf': [15,20]\n",
    "}\n",
    "\n",
    "gbm_gridsearch = GridSearchCV(estimator = gbm_model,\n",
    "                              param_grid = gbm_grid, \n",
    "                              cv = 3, \n",
    "                              n_jobs = -1, \n",
    "                              verbose = 1, \n",
    "                              scoring = scorer)\n",
    "\n",
    "gbm_gridsearch.fit(clean_train, train_target)\n",
    "gbm_gridsearch.best_params_"
   ]
  },
  {
   "cell_type": "code",
   "execution_count": 29,
   "metadata": {
    "_uuid": "d68d7721edfba79274d465915d91290667c5e201",
    "scrolled": true
   },
   "outputs": [
    {
     "name": "stdout",
     "output_type": "stream",
     "text": [
      "Fitting 3 folds for each of 4 candidates, totalling 12 fits\n"
     ]
    },
    {
     "name": "stderr",
     "output_type": "stream",
     "text": [
      "[Parallel(n_jobs=-1)]: Using backend LokyBackend with 4 concurrent workers.\n",
      "[Parallel(n_jobs=-1)]: Done  12 out of  12 | elapsed:    7.8s finished\n"
     ]
    },
    {
     "data": {
      "text/plain": [
       "{'algorithm': 'SAMME.R',\n",
       " 'learning_rate': 0.35,\n",
       " 'n_estimators': 150,\n",
       " 'random_state': 1234}"
      ]
     },
     "execution_count": 29,
     "metadata": {},
     "output_type": "execute_result"
    }
   ],
   "source": [
    "ada_model = AdaBoostClassifier()\n",
    "ada_grid = {\n",
    "    'random_state' : [1234],\n",
    "    'n_estimators' : [135, 150],\n",
    "    'learning_rate' : [0.35, 0.5],\n",
    "    'algorithm' : ['SAMME.R']\n",
    "}\n",
    "\n",
    "ada_gridsearch = GridSearchCV(estimator = ada_model,\n",
    "                              param_grid = ada_grid, \n",
    "                              cv = 3, \n",
    "                              n_jobs = -1, \n",
    "                              verbose = 1, \n",
    "                              scoring = scorer)\n",
    "\n",
    "ada_gridsearch.fit(clean_train, train_target)\n",
    "ada_gridsearch.best_params_"
   ]
  },
  {
   "cell_type": "code",
   "execution_count": 30,
   "metadata": {
    "_uuid": "88d9331ebe591469ffcbc8b44c5728fdad61d4ce"
   },
   "outputs": [
    {
     "name": "stdout",
     "output_type": "stream",
     "text": [
      "Fitting 3 folds for each of 144 candidates, totalling 432 fits\n"
     ]
    },
    {
     "name": "stderr",
     "output_type": "stream",
     "text": [
      "[Parallel(n_jobs=-1)]: Using backend LokyBackend with 4 concurrent workers.\n",
      "[Parallel(n_jobs=-1)]: Done  42 tasks      | elapsed:   16.3s\n",
      "[Parallel(n_jobs=-1)]: Done 192 tasks      | elapsed:  1.3min\n",
      "[Parallel(n_jobs=-1)]: Done 432 out of 432 | elapsed:  3.0min finished\n"
     ]
    },
    {
     "name": "stdout",
     "output_type": "stream",
     "text": [
      "0.2928920722473285\n"
     ]
    },
    {
     "data": {
      "text/plain": [
       "{'bootstrap': 'true',\n",
       " 'criterion': 'gini',\n",
       " 'max_depth': 50,\n",
       " 'max_features': 'auto',\n",
       " 'min_samples_leaf': 5,\n",
       " 'min_samples_split': 5,\n",
       " 'n_estimators': 300,\n",
       " 'random_state': 1234}"
      ]
     },
     "execution_count": 30,
     "metadata": {},
     "output_type": "execute_result"
    }
   ],
   "source": [
    "ets_model = ExtraTreesClassifier()\n",
    "ets_grid = {\n",
    "    'random_state' : [1234],\n",
    "    'n_estimators' : [50, 150, 300],\n",
    "    'criterion' : ['gini'],\n",
    "    'max_depth' : [10, 25, 50],\n",
    "    'max_features' : ['auto'],\n",
    "    'min_samples_split' : [5, 10, 15, 30],\n",
    "    'min_samples_leaf' : [5, 10, 15, 30],\n",
    "    'bootstrap' : ['true']\n",
    "}\n",
    "\n",
    "ets_gridsearch = GridSearchCV(estimator = ets_model,\n",
    "                              param_grid = ets_grid, \n",
    "                              cv = 3, \n",
    "                              n_jobs = -1, \n",
    "                              verbose = 1, \n",
    "                              scoring = scorer)\n",
    "\n",
    "ets_gridsearch.fit(clean_train, train_target)\n",
    "print(ets_gridsearch.best_score_)\n",
    "ets_gridsearch.best_params_\n"
   ]
  },
  {
   "cell_type": "code",
   "execution_count": 31,
   "metadata": {
    "_uuid": "0483f34c09386c74678826b01ac77af4b1f558e3"
   },
   "outputs": [
    {
     "name": "stdout",
     "output_type": "stream",
     "text": [
      "Fitting 3 folds for each of 36 candidates, totalling 108 fits\n"
     ]
    },
    {
     "name": "stderr",
     "output_type": "stream",
     "text": [
      "[Parallel(n_jobs=-1)]: Using backend LokyBackend with 4 concurrent workers.\n",
      "[Parallel(n_jobs=-1)]: Done  42 tasks      | elapsed:   54.8s\n",
      "[Parallel(n_jobs=-1)]: Done 108 out of 108 | elapsed:  2.3min finished\n"
     ]
    },
    {
     "data": {
      "text/plain": [
       "{'max_depth': 35,\n",
       " 'max_features': 'auto',\n",
       " 'min_samples_leaf': 5,\n",
       " 'min_samples_split': 15,\n",
       " 'n_estimators': 300,\n",
       " 'random_state': 1234}"
      ]
     },
     "execution_count": 31,
     "metadata": {},
     "output_type": "execute_result"
    }
   ],
   "source": [
    "rfc_model = RandomForestClassifier()\n",
    "rfc_grid = {\n",
    "    'random_state' : [1234],\n",
    "    'n_estimators' : [250, 300, 350],\n",
    "    'max_depth' : [35, 50, 75],\n",
    "    'max_features' : ['auto'],\n",
    "    'min_samples_leaf': [5, 10],\n",
    "    'min_samples_split': [10, 15]\n",
    "}\n",
    "\n",
    "rfc_gridsearch = GridSearchCV(estimator = rfc_model,\n",
    "                              param_grid = rfc_grid, \n",
    "                              cv = 3, \n",
    "                              n_jobs = -1, \n",
    "                              verbose = 1, \n",
    "                              scoring = scorer)\n",
    "\n",
    "rfc_gridsearch.fit(clean_train, train_target)\n",
    "rfc_gridsearch.best_params_"
   ]
  },
  {
   "cell_type": "code",
   "execution_count": 32,
   "metadata": {
    "_uuid": "045335e5950a4ec0ef74738ea3f62360e7c5bcb3"
   },
   "outputs": [
    {
     "name": "stdout",
     "output_type": "stream",
     "text": [
      "Fitting 3 folds for each of 36 candidates, totalling 108 fits\n"
     ]
    },
    {
     "name": "stderr",
     "output_type": "stream",
     "text": [
      "[Parallel(n_jobs=-1)]: Using backend LokyBackend with 4 concurrent workers.\n",
      "[Parallel(n_jobs=-1)]: Done  42 tasks      | elapsed:  8.3min\n",
      "[Parallel(n_jobs=-1)]: Done 108 out of 108 | elapsed: 21.3min finished\n"
     ]
    },
    {
     "data": {
      "text/plain": [
       "{'gamma': 0.7,\n",
       " 'learning_rate': 0.1,\n",
       " 'max_depth': 10,\n",
       " 'min_child_weight': 2,\n",
       " 'n_estimators': 150,\n",
       " 'random_state': 1234}"
      ]
     },
     "execution_count": 32,
     "metadata": {},
     "output_type": "execute_result"
    }
   ],
   "source": [
    "xgb_model = XGBClassifier()\n",
    "xgb_grid = {\n",
    "    'n_estimators' : [150, 200],\n",
    "    'random_state' : [1234],\n",
    "    'max_depth': [10,12,15],\n",
    "    'min_child_weight': [2,3],\n",
    "    'learning_rate': [0.1],\n",
    "    'gamma': [0.6, 0.7, 0.8]\n",
    "}\n",
    "\n",
    "xgb_gridsearch = GridSearchCV(estimator = xgb_model,\n",
    "                              param_grid = xgb_grid, \n",
    "                              cv = 3, \n",
    "                              n_jobs = -1, \n",
    "                              verbose = 1, \n",
    "                              scoring = scorer)\n",
    "\n",
    "xgb_gridsearch.fit(clean_train, train_target)\n",
    "xgb_gridsearch.best_params_"
   ]
  },
  {
   "cell_type": "code",
   "execution_count": 33,
   "metadata": {
    "_uuid": "93be5ccd76c1128a721592b24e5a4936e798f3c0"
   },
   "outputs": [
    {
     "name": "stdout",
     "output_type": "stream",
     "text": [
      "Best Model Parameters: \n",
      "\n",
      "AdaBoost Classifier Score: 0.3252\n",
      "{'algorithm': 'SAMME.R', 'learning_rate': 0.35, 'n_estimators': 150, 'random_state': 1234}\n",
      "\n",
      "GradientBoosting Classifier Score: 0.3538\n",
      "{'learning_rate': 0.1, 'loss': 'deviance', 'max_depth': 5, 'max_features': 'auto', 'min_samples_leaf': 15, 'min_samples_split': 5, 'n_estimators': 100, 'random_state': 1234, 'subsample': 0.9}\n",
      "\n",
      "Extra Trees Classifier Score: 0.2929\n",
      "{'bootstrap': 'true', 'criterion': 'gini', 'max_depth': 50, 'max_features': 'auto', 'min_samples_leaf': 5, 'min_samples_split': 5, 'n_estimators': 300, 'random_state': 1234}\n",
      "\n",
      "Random Forest Classifier Score: 0.3449\n",
      "{'max_depth': 35, 'max_features': 'auto', 'min_samples_leaf': 5, 'min_samples_split': 15, 'n_estimators': 300, 'random_state': 1234}\n",
      "\n",
      "XGBoost Classifier Score: 0.3526\n",
      "{'gamma': 0.7, 'learning_rate': 0.1, 'max_depth': 10, 'min_child_weight': 2, 'n_estimators': 150, 'random_state': 1234}\n",
      "\n"
     ]
    }
   ],
   "source": [
    "print(\"Best Model Parameters: \\n\")\n",
    "\n",
    "print(\"AdaBoost Classifier Score: {:.4f}\\n{}\\n\".format(ada_gridsearch.best_score_, ada_gridsearch.best_params_))\n",
    "print(\"GradientBoosting Classifier Score: {:.4f}\\n{}\\n\".format(gbm_gridsearch.best_score_, gbm_gridsearch.best_params_))\n",
    "print(\"Extra Trees Classifier Score: {:.4f}\\n{}\\n\".format(ets_gridsearch.best_score_, ets_gridsearch.best_params_))\n",
    "print(\"Random Forest Classifier Score: {:.4f}\\n{}\\n\".format(rfc_gridsearch.best_score_, rfc_gridsearch.best_params_))\n",
    "print(\"XGBoost Classifier Score: {:.4f}\\n{}\\n\".format(xgb_gridsearch.best_score_, xgb_gridsearch.best_params_))"
   ]
  },
  {
   "cell_type": "markdown",
   "metadata": {},
   "source": [
    "<a id='Predictions-&-Submission'></a>"
   ]
  },
  {
   "cell_type": "markdown",
   "metadata": {
    "_uuid": "53ab23fbdfcc54d61defe2bf7b39afa7c972b630"
   },
   "source": [
    "## Predictions & Submission"
   ]
  },
  {
   "cell_type": "code",
   "execution_count": 36,
   "metadata": {
    "_uuid": "fac7a1e0ed03db5e2be0097f6ab53cdfd5cae460",
    "collapsed": true,
    "jupyter": {
     "outputs_hidden": true
    }
   },
   "outputs": [],
   "source": [
    "pred1 = ada_gridsearch.predict(clean_test)\n",
    "pred2 = gbm_gridsearch.predict(clean_test)\n",
    "#pred3 = ets_gridsearch.predict(clean_test) # Did not perform well\n",
    "pred4 = rfc_gridsearch.predict(clean_test)\n",
    "pred5 = xgb_gridsearch.predict(clean_test)"
   ]
  },
  {
   "cell_type": "code",
   "execution_count": 37,
   "metadata": {
    "_uuid": "22d8dff58fa7f3a8f34212fcf979b12cafb62ee2"
   },
   "outputs": [
    {
     "data": {
      "text/html": [
       "<div>\n",
       "<style scoped>\n",
       "    .dataframe tbody tr th:only-of-type {\n",
       "        vertical-align: middle;\n",
       "    }\n",
       "\n",
       "    .dataframe tbody tr th {\n",
       "        vertical-align: top;\n",
       "    }\n",
       "\n",
       "    .dataframe thead th {\n",
       "        text-align: right;\n",
       "    }\n",
       "</style>\n",
       "<table border=\"1\" class=\"dataframe\">\n",
       "  <thead>\n",
       "    <tr style=\"text-align: right;\">\n",
       "      <th></th>\n",
       "      <th>AdaBoost</th>\n",
       "      <th>GradientBoosting</th>\n",
       "      <th>Random Forest</th>\n",
       "      <th>XGBoost</th>\n",
       "      <th>Average</th>\n",
       "    </tr>\n",
       "  </thead>\n",
       "  <tbody>\n",
       "    <tr>\n",
       "      <th>0</th>\n",
       "      <td>2</td>\n",
       "      <td>2</td>\n",
       "      <td>2</td>\n",
       "      <td>2</td>\n",
       "      <td>2</td>\n",
       "    </tr>\n",
       "    <tr>\n",
       "      <th>1</th>\n",
       "      <td>4</td>\n",
       "      <td>4</td>\n",
       "      <td>4</td>\n",
       "      <td>4</td>\n",
       "      <td>4</td>\n",
       "    </tr>\n",
       "    <tr>\n",
       "      <th>2</th>\n",
       "      <td>4</td>\n",
       "      <td>4</td>\n",
       "      <td>4</td>\n",
       "      <td>4</td>\n",
       "      <td>4</td>\n",
       "    </tr>\n",
       "    <tr>\n",
       "      <th>3</th>\n",
       "      <td>4</td>\n",
       "      <td>4</td>\n",
       "      <td>4</td>\n",
       "      <td>3</td>\n",
       "      <td>4</td>\n",
       "    </tr>\n",
       "    <tr>\n",
       "      <th>4</th>\n",
       "      <td>4</td>\n",
       "      <td>4</td>\n",
       "      <td>4</td>\n",
       "      <td>4</td>\n",
       "      <td>4</td>\n",
       "    </tr>\n",
       "  </tbody>\n",
       "</table>\n",
       "</div>"
      ],
      "text/plain": [
       "   AdaBoost  GradientBoosting  Random Forest  XGBoost  Average\n",
       "0         2                 2              2        2        2\n",
       "1         4                 4              4        4        4\n",
       "2         4                 4              4        4        4\n",
       "3         4                 4              4        3        4\n",
       "4         4                 4              4        4        4"
      ]
     },
     "execution_count": 37,
     "metadata": {},
     "output_type": "execute_result"
    }
   ],
   "source": [
    "final_preds = pd.DataFrame(data=[pred1, pred2, pred4, pred5]).transpose()\n",
    "final_preds.columns = (['AdaBoost', 'GradientBoosting', 'Random Forest', 'XGBoost'])\n",
    "final_preds['Average'] = round(final_preds.mean(axis=1)).astype(int)\n",
    "final_preds.head()"
   ]
  },
  {
   "cell_type": "code",
   "execution_count": 38,
   "metadata": {
    "_uuid": "70822896218cd109ce4f8c226eed52e332723ec6",
    "collapsed": true,
    "jupyter": {
     "outputs_hidden": true
    }
   },
   "outputs": [],
   "source": [
    "submission_df = pd.DataFrame(data = {'PetID' : test['PetID'], \n",
    "                                     'AdoptionSpeed' : final_preds.Average})\n",
    "submission_df.to_csv('submission.csv', index = False)"
   ]
  },
  {
   "cell_type": "code",
   "execution_count": 39,
   "metadata": {
    "_uuid": "fc71ebfab8a78bccd628da5a48dff958f47b364f"
   },
   "outputs": [
    {
     "data": {
      "text/html": [
       "<div>\n",
       "<style scoped>\n",
       "    .dataframe tbody tr th:only-of-type {\n",
       "        vertical-align: middle;\n",
       "    }\n",
       "\n",
       "    .dataframe tbody tr th {\n",
       "        vertical-align: top;\n",
       "    }\n",
       "\n",
       "    .dataframe thead th {\n",
       "        text-align: right;\n",
       "    }\n",
       "</style>\n",
       "<table border=\"1\" class=\"dataframe\">\n",
       "  <thead>\n",
       "    <tr style=\"text-align: right;\">\n",
       "      <th></th>\n",
       "      <th>PetID</th>\n",
       "      <th>AdoptionSpeed</th>\n",
       "    </tr>\n",
       "  </thead>\n",
       "  <tbody>\n",
       "    <tr>\n",
       "      <th>0</th>\n",
       "      <td>378fcc4fc</td>\n",
       "      <td>2</td>\n",
       "    </tr>\n",
       "    <tr>\n",
       "      <th>1</th>\n",
       "      <td>73c10e136</td>\n",
       "      <td>4</td>\n",
       "    </tr>\n",
       "    <tr>\n",
       "      <th>2</th>\n",
       "      <td>72000c4c5</td>\n",
       "      <td>4</td>\n",
       "    </tr>\n",
       "  </tbody>\n",
       "</table>\n",
       "</div>"
      ],
      "text/plain": [
       "       PetID  AdoptionSpeed\n",
       "0  378fcc4fc              2\n",
       "1  73c10e136              4\n",
       "2  72000c4c5              4"
      ]
     },
     "execution_count": 39,
     "metadata": {},
     "output_type": "execute_result"
    }
   ],
   "source": [
    "submission_df.head(3)"
   ]
  }
 ],
 "metadata": {
  "kernelspec": {
   "display_name": "Python 3",
   "language": "python",
   "name": "python3"
  },
  "language_info": {
   "codemirror_mode": {
    "name": "ipython",
    "version": 3
   },
   "file_extension": ".py",
   "mimetype": "text/x-python",
   "name": "python",
   "nbconvert_exporter": "python",
   "pygments_lexer": "ipython3",
   "version": "3.8.2"
  },
  "toc": {
   "base_numbering": 1,
   "nav_menu": {},
   "number_sections": true,
   "sideBar": true,
   "skip_h1_title": true,
   "title_cell": "Table of Contents",
   "title_sidebar": "Contents",
   "toc_cell": false,
   "toc_position": {},
   "toc_section_display": true,
   "toc_window_display": false
  },
  "varInspector": {
   "cols": {
    "lenName": 16,
    "lenType": 16,
    "lenVar": 40
   },
   "kernels_config": {
    "python": {
     "delete_cmd_postfix": "",
     "delete_cmd_prefix": "del ",
     "library": "var_list.py",
     "varRefreshCmd": "print(var_dic_list())"
    },
    "r": {
     "delete_cmd_postfix": ") ",
     "delete_cmd_prefix": "rm(",
     "library": "var_list.r",
     "varRefreshCmd": "cat(var_dic_list()) "
    }
   },
   "types_to_exclude": [
    "module",
    "function",
    "builtin_function_or_method",
    "instance",
    "_Feature"
   ],
   "window_display": false
  }
 },
 "nbformat": 4,
 "nbformat_minor": 4
}
